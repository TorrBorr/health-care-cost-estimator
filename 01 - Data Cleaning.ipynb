{
 "cells": [
  {
   "cell_type": "code",
   "execution_count": 1,
   "metadata": {
    "collapsed": true
   },
   "outputs": [],
   "source": [
    "import time\n",
    "import itertools\n",
    "import time, os, fnmatch, shutil\n",
    "import pickle\n",
    "import re\n",
    "# Python 2 & 3 Compatibility\n",
    "from __future__ import print_function, division\n",
    "\n",
    "# Necessary imports\n",
    "import pandas as pd\n",
    "import numpy as np\n",
    "import statsmodels.api as sm\n",
    "import statsmodels.formula.api as smf\n",
    "import patsy\n",
    "import seaborn as sns\n",
    "from seaborn import plt\n",
    "import matplotlib\n",
    "\n",
    "matplotlib.rcParams.update({'font.size': 22})\n",
    "\n",
    "%matplotlib inline\n",
    "\n",
    "from __future__ import print_function, division\n",
    "import requests"
   ]
  },
  {
   "cell_type": "code",
   "execution_count": 2,
   "metadata": {
    "collapsed": false
   },
   "outputs": [],
   "source": [
    "folder = '/Users/torrie/Documents/Metis_Project_3_(McNulty)/'\n",
    "pkl_filename_master = folder + \"IP_OP_Hosp_df.pkl\"\n",
    "\n",
    "with open(pkl_filename_master, 'rb') as picklefile: \n",
    "    df_alldata = pickle.load(picklefile)"
   ]
  },
  {
   "cell_type": "code",
   "execution_count": 3,
   "metadata": {
    "collapsed": false,
    "scrolled": true
   },
   "outputs": [
    {
     "data": {
      "text/plain": [
       "Average_Covered_Charges                       float64\n",
       "Average_Medicare_Payments                     float64\n",
       "Average_Total_Payments                        float64\n",
       "DRG_Definition                                 object\n",
       "Hospital_Referral_Region_(HRR)_Description     object\n",
       "Provider_City                                  object\n",
       "Provider_ID                                     int64\n",
       "Provider_Name                                  object\n",
       "Provider_State                                 object\n",
       "Provider_Street_Address                        object\n",
       "Provider_Zip_Code                               int64\n",
       "Service_type                                   object\n",
       "Total_Discharges                                int64\n",
       "Hospital_Name                                  object\n",
       "County_Name                                    object\n",
       "Hospital_Type                                  object\n",
       "Hospital_Ownership                             object\n",
       "Emergency_Services                             object\n",
       "dtype: object"
      ]
     },
     "execution_count": 3,
     "metadata": {},
     "output_type": "execute_result"
    }
   ],
   "source": [
    "df_alldata.dtypes"
   ]
  },
  {
   "cell_type": "markdown",
   "metadata": {},
   "source": [
    "Calculate the OOP for patients for IP stays"
   ]
  },
  {
   "cell_type": "code",
   "execution_count": 4,
   "metadata": {
    "collapsed": false
   },
   "outputs": [],
   "source": [
    "#df_IPandProvider['Average_Total_Payments'].iloc[1] - df_IPandProvider['Average_Medicare_Payments'].iloc[1]\n",
    "df_alldata['Patient_payment'] = df_alldata['Average_Total_Payments'] - df_alldata['Average_Medicare_Payments']\n"
   ]
  },
  {
   "cell_type": "markdown",
   "metadata": {},
   "source": [
    "Look at how data is distributed for a few of the tags"
   ]
  },
  {
   "cell_type": "code",
   "execution_count": 5,
   "metadata": {
    "collapsed": true
   },
   "outputs": [],
   "source": [
    "stats = df_alldata[df_alldata.DRG_Definition == '885 - PSYCHOSES'].mean()"
   ]
  },
  {
   "cell_type": "code",
   "execution_count": 6,
   "metadata": {
    "collapsed": false
   },
   "outputs": [
    {
     "data": {
      "text/plain": [
       "Average_Covered_Charges       23962.716435\n",
       "Average_Medicare_Payments      6897.348952\n",
       "Average_Total_Payments         8465.983557\n",
       "Provider_ID                  250526.132045\n",
       "Provider_Zip_Code             47615.636071\n",
       "Total_Discharges                141.613527\n",
       "Patient_payment                1568.634605\n",
       "dtype: float64"
      ]
     },
     "execution_count": 6,
     "metadata": {},
     "output_type": "execute_result"
    }
   ],
   "source": [
    "stats"
   ]
  },
  {
   "cell_type": "code",
   "execution_count": 7,
   "metadata": {
    "collapsed": false
   },
   "outputs": [
    {
     "data": {
      "text/plain": [
       "Average_Covered_Charges       19239.071430\n",
       "Average_Medicare_Payments      6032.555944\n",
       "Average_Total_Payments         7325.500000\n",
       "Provider_ID                  230230.000000\n",
       "Provider_Zip_Code             44903.000000\n",
       "Total_Discharges                 93.000000\n",
       "Patient_payment                1164.962406\n",
       "dtype: float64"
      ]
     },
     "execution_count": 7,
     "metadata": {},
     "output_type": "execute_result"
    }
   ],
   "source": [
    "medians = df_alldata[df_alldata.DRG_Definition == '885 - PSYCHOSES'].median()\n",
    "medians"
   ]
  },
  {
   "cell_type": "code",
   "execution_count": 8,
   "metadata": {
    "collapsed": false
   },
   "outputs": [
    {
     "data": {
      "text/plain": [
       "23962.71643519324"
      ]
     },
     "execution_count": 8,
     "metadata": {},
     "output_type": "execute_result"
    },
    {
     "data": {
      "image/png": "[encoded data removed]",
      "text/plain": [
       "<matplotlib.figure.Figure at 0x11cf34790>"
      ]
     },
     "metadata": {},
     "output_type": "display_data"
    }
   ],
   "source": [
    "df_Psych = df_alldata[df_alldata.DRG_Definition == '885 - PSYCHOSES']\n",
    "df_Psych['Average_Covered_Charges'].hist(bins = 200)\n",
    "df_Psych['Average_Covered_Charges'].mean()"
   ]
  },
  {
   "cell_type": "code",
   "execution_count": 9,
   "metadata": {
    "collapsed": false
   },
   "outputs": [
    {
     "name": "stderr",
     "output_type": "stream",
     "text": [
      "/anaconda/lib/python2.7/site-packages/ipykernel/__main__.py:1: SettingWithCopyWarning: \n",
      "A value is trying to be set on a copy of a slice from a DataFrame.\n",
      "Try using .loc[row_indexer,col_indexer] = value instead\n",
      "\n",
      "See the caveats in the documentation: http://pandas.pydata.org/pandas-docs/stable/indexing.html#indexing-view-versus-copy\n",
      "  if __name__ == '__main__':\n"
     ]
    },
    {
     "data": {
      "text/plain": [
       "<matplotlib.axes._subplots.AxesSubplot at 0x1240e8dd0>"
      ]
     },
     "execution_count": 9,
     "metadata": {},
     "output_type": "execute_result"
    },
    {
     "data": {
      "image/png": "[encoded data removed]",
      "text/plain": [
       "<matplotlib.figure.Figure at 0x120693210>"
      ]
     },
     "metadata": {},
     "output_type": "display_data"
    }
   ],
   "source": [
    "df_Psych['log_Average_Covered_Charges'] = np.log(df_Psych['Average_Covered_Charges'])\n",
    "df_Psych['log_Average_Covered_Charges'].hist(bins = 200)"
   ]
  },
  {
   "cell_type": "code",
   "execution_count": 10,
   "metadata": {
    "collapsed": false
   },
   "outputs": [
    {
     "data": {
      "text/plain": [
       "101446.8696582755"
      ]
     },
     "execution_count": 10,
     "metadata": {},
     "output_type": "execute_result"
    },
    {
     "data": {
      "image/png": "[encoded data removed]",
      "text/plain": [
       "<matplotlib.figure.Figure at 0x1218c37d0>"
      ]
     },
     "metadata": {},
     "output_type": "display_data"
    }
   ],
   "source": [
    "df_vasc = df_alldata[df_alldata.DRG_Definition == '252 - OTHER VASCULAR PROCEDURES W MCC']\n",
    "df_vasc['Average_Covered_Charges'].hist(bins = 200)\n",
    "df_vasc['Average_Covered_Charges'].mean()"
   ]
  },
  {
   "cell_type": "code",
   "execution_count": 11,
   "metadata": {
    "collapsed": false
   },
   "outputs": [
    {
     "name": "stderr",
     "output_type": "stream",
     "text": [
      "/anaconda/lib/python2.7/site-packages/ipykernel/__main__.py:1: SettingWithCopyWarning: \n",
      "A value is trying to be set on a copy of a slice from a DataFrame.\n",
      "Try using .loc[row_indexer,col_indexer] = value instead\n",
      "\n",
      "See the caveats in the documentation: http://pandas.pydata.org/pandas-docs/stable/indexing.html#indexing-view-versus-copy\n",
      "  if __name__ == '__main__':\n"
     ]
    },
    {
     "data": {
      "text/plain": [
       "<matplotlib.axes._subplots.AxesSubplot at 0x121905490>"
      ]
     },
     "execution_count": 11,
     "metadata": {},
     "output_type": "execute_result"
    },
    {
     "data": {
      "image/png": "[encoded data removed]",
      "text/plain": [
       "<matplotlib.figure.Figure at 0x10f62e590>"
      ]
     },
     "metadata": {},
     "output_type": "display_data"
    }
   ],
   "source": [
    "df_vasc['log_Average_Covered_Charges'] = np.log(df_vasc['Average_Covered_Charges'])\n",
    "df_vasc['log_Average_Covered_Charges'].hist(bins = 200)"
   ]
  },
  {
   "cell_type": "code",
   "execution_count": 12,
   "metadata": {
    "collapsed": false
   },
   "outputs": [
    {
     "data": {
      "text/plain": [
       "179.38889725236777"
      ]
     },
     "execution_count": 12,
     "metadata": {},
     "output_type": "execute_result"
    },
    {
     "data": {
      "image/png": "[encoded data removed]",
      "text/plain": [
       "<matplotlib.figure.Figure at 0x10f67eb10>"
      ]
     },
     "metadata": {},
     "output_type": "display_data"
    }
   ],
   "source": [
    "df_debride = df_alldata[df_alldata.DRG_Definition == '0012 - Level I Debridement & Destruction']\n",
    "df_debride['Average_Covered_Charges'].hist(bins = 200)\n",
    "df_debride['Average_Covered_Charges'].mean()"
   ]
  },
  {
   "cell_type": "code",
   "execution_count": 13,
   "metadata": {
    "collapsed": false
   },
   "outputs": [
    {
     "name": "stderr",
     "output_type": "stream",
     "text": [
      "/anaconda/lib/python2.7/site-packages/ipykernel/__main__.py:1: SettingWithCopyWarning: \n",
      "A value is trying to be set on a copy of a slice from a DataFrame.\n",
      "Try using .loc[row_indexer,col_indexer] = value instead\n",
      "\n",
      "See the caveats in the documentation: http://pandas.pydata.org/pandas-docs/stable/indexing.html#indexing-view-versus-copy\n",
      "  if __name__ == '__main__':\n"
     ]
    },
    {
     "data": {
      "text/plain": [
       "<matplotlib.axes._subplots.AxesSubplot at 0x121518790>"
      ]
     },
     "execution_count": 13,
     "metadata": {},
     "output_type": "execute_result"
    },
    {
     "data": {
      "image/png": "[encoded data removed]",
      "text/plain": [
       "<matplotlib.figure.Figure at 0x1215520d0>"
      ]
     },
     "metadata": {},
     "output_type": "display_data"
    }
   ],
   "source": [
    "df_debride['log_Average_Covered_Charges'] = np.log(df_debride['Average_Covered_Charges'])\n",
    "df_debride['log_Average_Covered_Charges'].hist(bins = 200)"
   ]
  },
  {
   "cell_type": "markdown",
   "metadata": {},
   "source": [
    "Log is more normal for the data. Add log colums to dataset in case useful later on. "
   ]
  },
  {
   "cell_type": "code",
   "execution_count": 14,
   "metadata": {
    "collapsed": false
   },
   "outputs": [
    {
     "data": {
      "text/plain": [
       "Index([u'Average_Covered_Charges', u'Average_Medicare_Payments',\n",
       "       u'Average_Total_Payments', u'DRG_Definition',\n",
       "       u'Hospital_Referral_Region_(HRR)_Description', u'Provider_City',\n",
       "       u'Provider_ID', u'Provider_Name', u'Provider_State',\n",
       "       u'Provider_Street_Address', u'Provider_Zip_Code', u'Service_type',\n",
       "       u'Total_Discharges', u'Hospital_Name', u'County_Name', u'Hospital_Type',\n",
       "       u'Hospital_Ownership', u'Emergency_Services', u'Patient_payment'],\n",
       "      dtype='object')"
      ]
     },
     "execution_count": 14,
     "metadata": {},
     "output_type": "execute_result"
    }
   ],
   "source": [
    "df_alldata.columns"
   ]
  },
  {
   "cell_type": "markdown",
   "metadata": {},
   "source": [
    "Replace 0's with 1's so we can take the log"
   ]
  },
  {
   "cell_type": "code",
   "execution_count": 15,
   "metadata": {
    "collapsed": true
   },
   "outputs": [],
   "source": [
    "df_alldata['Average_Medicare_Payments'] = df_alldata['Average_Medicare_Payments'].replace('0',int(1))"
   ]
  },
  {
   "cell_type": "code",
   "execution_count": 16,
   "metadata": {
    "collapsed": true
   },
   "outputs": [],
   "source": [
    "df_alldata['Patient_payment'] = df_alldata['Patient_payment'].replace('0',int(1))"
   ]
  },
  {
   "cell_type": "code",
   "execution_count": 17,
   "metadata": {
    "collapsed": false
   },
   "outputs": [],
   "source": [
    "df_alldata['log_Average_Covered_Charges'] = np.log(df_alldata['Average_Covered_Charges'])"
   ]
  },
  {
   "cell_type": "code",
   "execution_count": 18,
   "metadata": {
    "collapsed": false
   },
   "outputs": [],
   "source": [
    "df_alldata['log_Average_Medicare_Payments'] = np.log(df_alldata['Average_Medicare_Payments'])"
   ]
  },
  {
   "cell_type": "code",
   "execution_count": 19,
   "metadata": {
    "collapsed": true
   },
   "outputs": [],
   "source": [
    "df_alldata['log_Average_Total_Payments'] = np.log(df_alldata['Average_Total_Payments'])"
   ]
  },
  {
   "cell_type": "code",
   "execution_count": 20,
   "metadata": {
    "collapsed": false
   },
   "outputs": [],
   "source": [
    "df_alldata['log_Patient_payment'] = np.log(df_alldata['Patient_payment'])"
   ]
  },
  {
   "cell_type": "markdown",
   "metadata": {},
   "source": [
    "Now get stats for the types of services provided:"
   ]
  },
  {
   "cell_type": "code",
   "execution_count": 21,
   "metadata": {
    "collapsed": false,
    "scrolled": true
   },
   "outputs": [
    {
     "data": {
      "text/plain": [
       "DRG_Definition                                                             Provider_State\n",
       "001 - HEART TRANSPLANT OR IMPLANT OF HEART ASSIST SYSTEM W MCC             AL                1.172866e+06\n",
       "                                                                           AZ                4.375313e+05\n",
       "                                                                           CA                1.642007e+06\n",
       "                                                                           CT                8.257015e+05\n",
       "                                                                           DC                7.807814e+05\n",
       "                                                                           FL                7.843003e+05\n",
       "                                                                           GA                7.148593e+05\n",
       "                                                                           IL                8.938851e+05\n",
       "                                                                           IN                8.785995e+05\n",
       "                                                                           KY                7.786536e+05\n",
       "                                                                           LA                7.996654e+05\n",
       "                                                                           MA                9.063524e+05\n",
       "                                                                           MI                5.998037e+05\n",
       "                                                                           MN                6.631950e+05\n",
       "                                                                           MO                7.976982e+05\n",
       "                                                                           NC                6.900902e+05\n",
       "                                                                           NE                5.531192e+05\n",
       "                                                                           NJ                9.471455e+05\n",
       "                                                                           NY                7.109100e+05\n",
       "                                                                           OH                7.321470e+05\n",
       "                                                                           OK                1.010658e+06\n",
       "                                                                           PA                1.313698e+06\n",
       "                                                                           SC                4.868078e+05\n",
       "                                                                           TN                7.210569e+05\n",
       "                                                                           TX                7.886381e+05\n",
       "                                                                           VA                7.984120e+05\n",
       "                                                                           WA                7.792545e+05\n",
       "                                                                           WI                5.285159e+05\n",
       "0012 - Level I Debridement & Destruction                                   AK                1.850318e+02\n",
       "                                                                           AL                2.723499e+02\n",
       "                                                                                                 ...     \n",
       "988 - NON-EXTENSIVE O.R. PROC UNRELATED TO PRINCIPAL DIAGNOSIS W CC        AL                5.000139e+04\n",
       "                                                                           AR                5.195364e+04\n",
       "                                                                           CT                5.298857e+04\n",
       "                                                                           DC                8.169036e+04\n",
       "                                                                           DE                2.960919e+04\n",
       "                                                                           FL                8.935831e+04\n",
       "                                                                           IL                5.171799e+04\n",
       "                                                                           IN                4.326658e+04\n",
       "                                                                           KS                5.522487e+04\n",
       "                                                                           KY                4.030893e+04\n",
       "                                                                           LA                3.902233e+04\n",
       "                                                                           MA                5.212147e+04\n",
       "                                                                           MD                2.712516e+04\n",
       "                                                                           MI                4.043207e+04\n",
       "                                                                           MN                4.187524e+04\n",
       "                                                                           MO                5.170640e+04\n",
       "                                                                           NC                3.903906e+04\n",
       "                                                                           NE                4.301655e+04\n",
       "                                                                           NJ                8.071746e+04\n",
       "                                                                           NY                7.116512e+04\n",
       "                                                                           OH                5.284234e+04\n",
       "                                                                           PA                8.293644e+04\n",
       "                                                                           SC                7.060687e+04\n",
       "                                                                           TN                3.618008e+04\n",
       "                                                                           TX                7.137012e+04\n",
       "                                                                           WI                4.689217e+04\n",
       "                                                                           WV                4.104589e+04\n",
       "989 - NON-EXTENSIVE O.R. PROC UNRELATED TO PRINCIPAL DIAGNOSIS W/O CC/MCC  KS                2.636138e+04\n",
       "                                                                           KY                2.433500e+04\n",
       "                                                                           NY                3.483262e+04\n",
       "Name: Average_Covered_Charges, dtype: float64"
      ]
     },
     "execution_count": 21,
     "metadata": {},
     "output_type": "execute_result"
    }
   ],
   "source": [
    "df_alldata['Average_Covered_Charges'].groupby([df_alldata['DRG_Definition'],df_alldata['Provider_State']]).mean()\n"
   ]
  },
  {
   "cell_type": "markdown",
   "metadata": {},
   "source": [
    "Calculate the average, mean and stdev  for each payment and log payment type by service type and add as columns:"
   ]
  },
  {
   "cell_type": "code",
   "execution_count": 22,
   "metadata": {
    "collapsed": true
   },
   "outputs": [],
   "source": [
    "stats_calc = ['Average_Covered_Charges','Average_Medicare_Payments','Average_Total_Payments',\\\n",
    "              'Patient_payment','log_Average_Covered_Charges','log_Average_Medicare_Payments',\\\n",
    "              'log_Average_Total_Payments', 'log_Patient_payment']\n",
    "    \n",
    "for column in stats_calc:\n",
    "    df_alldata = df_alldata.join(df_alldata.groupby('DRG_Definition')[column].mean(), on='DRG_Definition', rsuffix='_mean')\n",
    "    df_alldata = df_alldata.join(df_alldata.groupby('DRG_Definition')[column].median(), on='DRG_Definition', rsuffix='_median')\n",
    "    df_alldata =df_alldata.join(df_alldata.groupby('DRG_Definition')[column].std(), on='DRG_Definition', rsuffix='_std')\n"
   ]
  },
  {
   "cell_type": "code",
   "execution_count": 23,
   "metadata": {
    "collapsed": false
   },
   "outputs": [],
   "source": [
    "for column in stats_calc:\n",
    "    df_alldata = df_alldata.join(df_alldata.groupby(['DRG_Definition','Provider_State'])[column].mean(), on=['DRG_Definition','Provider_State'], rsuffix='_ST_mean')\n",
    "    df_alldata = df_alldata.join(df_alldata.groupby(['DRG_Definition','Provider_State'])[column].mean(), on=['DRG_Definition','Provider_State'], rsuffix='_ST_median')\n",
    "    df_alldata = df_alldata.join(df_alldata.groupby(['DRG_Definition','Provider_State'])[column].mean(), on=['DRG_Definition','Provider_State'], rsuffix='_ST_std')\n"
   ]
  },
  {
   "cell_type": "markdown",
   "metadata": {},
   "source": [
    "Check that all the columns were added:"
   ]
  },
  {
   "cell_type": "code",
   "execution_count": 24,
   "metadata": {
    "collapsed": false
   },
   "outputs": [
    {
     "data": {
      "text/plain": [
       "Index([u'Average_Covered_Charges', u'Average_Medicare_Payments',\n",
       "       u'Average_Total_Payments', u'DRG_Definition',\n",
       "       u'Hospital_Referral_Region_(HRR)_Description', u'Provider_City',\n",
       "       u'Provider_ID', u'Provider_Name', u'Provider_State',\n",
       "       u'Provider_Street_Address', u'Provider_Zip_Code', u'Service_type',\n",
       "       u'Total_Discharges', u'Hospital_Name', u'County_Name', u'Hospital_Type',\n",
       "       u'Hospital_Ownership', u'Emergency_Services', u'Patient_payment',\n",
       "       u'log_Average_Covered_Charges', u'log_Average_Medicare_Payments',\n",
       "       u'log_Average_Total_Payments', u'log_Patient_payment',\n",
       "       u'Average_Covered_Charges_mean', u'Average_Covered_Charges_median',\n",
       "       u'Average_Covered_Charges_std', u'Average_Medicare_Payments_mean',\n",
       "       u'Average_Medicare_Payments_median', u'Average_Medicare_Payments_std',\n",
       "       u'Average_Total_Payments_mean', u'Average_Total_Payments_median',\n",
       "       u'Average_Total_Payments_std', u'Patient_payment_mean',\n",
       "       u'Patient_payment_median', u'Patient_payment_std',\n",
       "       u'log_Average_Covered_Charges_mean',\n",
       "       u'log_Average_Covered_Charges_median',\n",
       "       u'log_Average_Covered_Charges_std',\n",
       "       u'log_Average_Medicare_Payments_mean',\n",
       "       u'log_Average_Medicare_Payments_median',\n",
       "       u'log_Average_Medicare_Payments_std',\n",
       "       u'log_Average_Total_Payments_mean',\n",
       "       u'log_Average_Total_Payments_median', u'log_Average_Total_Payments_std',\n",
       "       u'log_Patient_payment_mean', u'log_Patient_payment_median',\n",
       "       u'log_Patient_payment_std', u'Average_Covered_Charges_ST_mean',\n",
       "       u'Average_Covered_Charges_ST_median', u'Average_Covered_Charges_ST_std',\n",
       "       u'Average_Medicare_Payments_ST_mean',\n",
       "       u'Average_Medicare_Payments_ST_median',\n",
       "       u'Average_Medicare_Payments_ST_std', u'Average_Total_Payments_ST_mean',\n",
       "       u'Average_Total_Payments_ST_median', u'Average_Total_Payments_ST_std',\n",
       "       u'Patient_payment_ST_mean', u'Patient_payment_ST_median',\n",
       "       u'Patient_payment_ST_std', u'log_Average_Covered_Charges_ST_mean',\n",
       "       u'log_Average_Covered_Charges_ST_median',\n",
       "       u'log_Average_Covered_Charges_ST_std',\n",
       "       u'log_Average_Medicare_Payments_ST_mean',\n",
       "       u'log_Average_Medicare_Payments_ST_median',\n",
       "       u'log_Average_Medicare_Payments_ST_std',\n",
       "       u'log_Average_Total_Payments_ST_mean',\n",
       "       u'log_Average_Total_Payments_ST_median',\n",
       "       u'log_Average_Total_Payments_ST_std', u'log_Patient_payment_ST_mean',\n",
       "       u'log_Patient_payment_ST_median', u'log_Patient_payment_ST_std'],\n",
       "      dtype='object')"
      ]
     },
     "execution_count": 24,
     "metadata": {},
     "output_type": "execute_result"
    }
   ],
   "source": [
    " df_alldata.columns"
   ]
  },
  {
   "cell_type": "markdown",
   "metadata": {},
   "source": [
    "This one will calculate 3 bins:"
   ]
  },
  {
   "cell_type": "code",
   "execution_count": 25,
   "metadata": {
    "collapsed": false
   },
   "outputs": [
    {
     "name": "stderr",
     "output_type": "stream",
     "text": [
      "/anaconda/lib/python2.7/site-packages/ipykernel/__main__.py:2: SettingWithCopyWarning: \n",
      "A value is trying to be set on a copy of a slice from a DataFrame\n",
      "\n",
      "See the caveats in the documentation: http://pandas.pydata.org/pandas-docs/stable/indexing.html#indexing-view-versus-copy\n",
      "  from ipykernel import kernelapp as app\n",
      "/anaconda/lib/python2.7/site-packages/ipykernel/__main__.py:3: SettingWithCopyWarning: \n",
      "A value is trying to be set on a copy of a slice from a DataFrame\n",
      "\n",
      "See the caveats in the documentation: http://pandas.pydata.org/pandas-docs/stable/indexing.html#indexing-view-versus-copy\n",
      "  app.launch_new_instance()\n"
     ]
    }
   ],
   "source": [
    "df_alldata['Average_Covered_Charges_mean_3_bins'] = '1'\n",
    "df_alldata['Average_Covered_Charges_mean_3_bins'][df_alldata['Average_Covered_Charges'] >= (df_alldata['Average_Covered_Charges_mean']+0.5*df_alldata['Average_Covered_Charges_std'])] = '2'\n",
    "df_alldata['Average_Covered_Charges_mean_3_bins'][df_alldata['Average_Covered_Charges'] <= (df_alldata['Average_Covered_Charges_mean']-0.5*df_alldata['Average_Covered_Charges_std'])] = '0'\n",
    "\n"
   ]
  },
  {
   "cell_type": "code",
   "execution_count": 26,
   "metadata": {
    "collapsed": false
   },
   "outputs": [
    {
     "data": {
      "text/plain": [
       "1    99278\n",
       "0    84799\n",
       "2    54474\n",
       "Name: Average_Covered_Charges_mean_3_bins, dtype: int64"
      ]
     },
     "execution_count": 26,
     "metadata": {},
     "output_type": "execute_result"
    }
   ],
   "source": [
    "df_alldata['Average_Covered_Charges_mean_3_bins'].value_counts()"
   ]
  },
  {
   "cell_type": "code",
   "execution_count": 27,
   "metadata": {
    "collapsed": false
   },
   "outputs": [
    {
     "data": {
      "text/plain": [
       "Index([u'Average_Covered_Charges', u'Average_Medicare_Payments',\n",
       "       u'Average_Total_Payments', u'DRG_Definition',\n",
       "       u'Hospital_Referral_Region_(HRR)_Description', u'Provider_City',\n",
       "       u'Provider_ID', u'Provider_Name', u'Provider_State',\n",
       "       u'Provider_Street_Address', u'Provider_Zip_Code', u'Service_type',\n",
       "       u'Total_Discharges', u'Hospital_Name', u'County_Name', u'Hospital_Type',\n",
       "       u'Hospital_Ownership', u'Emergency_Services', u'Patient_payment',\n",
       "       u'log_Average_Covered_Charges', u'log_Average_Medicare_Payments',\n",
       "       u'log_Average_Total_Payments', u'log_Patient_payment',\n",
       "       u'Average_Covered_Charges_mean', u'Average_Covered_Charges_median',\n",
       "       u'Average_Covered_Charges_std', u'Average_Medicare_Payments_mean',\n",
       "       u'Average_Medicare_Payments_median', u'Average_Medicare_Payments_std',\n",
       "       u'Average_Total_Payments_mean', u'Average_Total_Payments_median',\n",
       "       u'Average_Total_Payments_std', u'Patient_payment_mean',\n",
       "       u'Patient_payment_median', u'Patient_payment_std',\n",
       "       u'log_Average_Covered_Charges_mean',\n",
       "       u'log_Average_Covered_Charges_median',\n",
       "       u'log_Average_Covered_Charges_std',\n",
       "       u'log_Average_Medicare_Payments_mean',\n",
       "       u'log_Average_Medicare_Payments_median',\n",
       "       u'log_Average_Medicare_Payments_std',\n",
       "       u'log_Average_Total_Payments_mean',\n",
       "       u'log_Average_Total_Payments_median', u'log_Average_Total_Payments_std',\n",
       "       u'log_Patient_payment_mean', u'log_Patient_payment_median',\n",
       "       u'log_Patient_payment_std', u'Average_Covered_Charges_ST_mean',\n",
       "       u'Average_Covered_Charges_ST_median', u'Average_Covered_Charges_ST_std',\n",
       "       u'Average_Medicare_Payments_ST_mean',\n",
       "       u'Average_Medicare_Payments_ST_median',\n",
       "       u'Average_Medicare_Payments_ST_std', u'Average_Total_Payments_ST_mean',\n",
       "       u'Average_Total_Payments_ST_median', u'Average_Total_Payments_ST_std',\n",
       "       u'Patient_payment_ST_mean', u'Patient_payment_ST_median',\n",
       "       u'Patient_payment_ST_std', u'log_Average_Covered_Charges_ST_mean',\n",
       "       u'log_Average_Covered_Charges_ST_median',\n",
       "       u'log_Average_Covered_Charges_ST_std',\n",
       "       u'log_Average_Medicare_Payments_ST_mean',\n",
       "       u'log_Average_Medicare_Payments_ST_median',\n",
       "       u'log_Average_Medicare_Payments_ST_std',\n",
       "       u'log_Average_Total_Payments_ST_mean',\n",
       "       u'log_Average_Total_Payments_ST_median',\n",
       "       u'log_Average_Total_Payments_ST_std', u'log_Patient_payment_ST_mean',\n",
       "       u'log_Patient_payment_ST_median', u'log_Patient_payment_ST_std',\n",
       "       u'Average_Covered_Charges_mean_3_bins'],\n",
       "      dtype='object')"
      ]
     },
     "execution_count": 27,
     "metadata": {},
     "output_type": "execute_result"
    }
   ],
   "source": [
    "df_alldata.columns"
   ]
  },
  {
   "cell_type": "code",
   "execution_count": 28,
   "metadata": {
    "collapsed": false
   },
   "outputs": [
    {
     "name": "stderr",
     "output_type": "stream",
     "text": [
      "/anaconda/lib/python2.7/site-packages/ipykernel/__main__.py:18: SettingWithCopyWarning: \n",
      "A value is trying to be set on a copy of a slice from a DataFrame\n",
      "\n",
      "See the caveats in the documentation: http://pandas.pydata.org/pandas-docs/stable/indexing.html#indexing-view-versus-copy\n",
      "/anaconda/lib/python2.7/site-packages/ipykernel/__main__.py:19: SettingWithCopyWarning: \n",
      "A value is trying to be set on a copy of a slice from a DataFrame\n",
      "\n",
      "See the caveats in the documentation: http://pandas.pydata.org/pandas-docs/stable/indexing.html#indexing-view-versus-copy\n",
      "/anaconda/lib/python2.7/site-packages/ipykernel/__main__.py:25: SettingWithCopyWarning: \n",
      "A value is trying to be set on a copy of a slice from a DataFrame\n",
      "\n",
      "See the caveats in the documentation: http://pandas.pydata.org/pandas-docs/stable/indexing.html#indexing-view-versus-copy\n",
      "/anaconda/lib/python2.7/site-packages/ipykernel/__main__.py:26: SettingWithCopyWarning: \n",
      "A value is trying to be set on a copy of a slice from a DataFrame\n",
      "\n",
      "See the caveats in the documentation: http://pandas.pydata.org/pandas-docs/stable/indexing.html#indexing-view-versus-copy\n",
      "/anaconda/lib/python2.7/site-packages/ipykernel/__main__.py:31: SettingWithCopyWarning: \n",
      "A value is trying to be set on a copy of a slice from a DataFrame\n",
      "\n",
      "See the caveats in the documentation: http://pandas.pydata.org/pandas-docs/stable/indexing.html#indexing-view-versus-copy\n",
      "/anaconda/lib/python2.7/site-packages/ipykernel/__main__.py:32: SettingWithCopyWarning: \n",
      "A value is trying to be set on a copy of a slice from a DataFrame\n",
      "\n",
      "See the caveats in the documentation: http://pandas.pydata.org/pandas-docs/stable/indexing.html#indexing-view-versus-copy\n",
      "/anaconda/lib/python2.7/site-packages/ipykernel/__main__.py:37: SettingWithCopyWarning: \n",
      "A value is trying to be set on a copy of a slice from a DataFrame\n",
      "\n",
      "See the caveats in the documentation: http://pandas.pydata.org/pandas-docs/stable/indexing.html#indexing-view-versus-copy\n",
      "/anaconda/lib/python2.7/site-packages/ipykernel/__main__.py:38: SettingWithCopyWarning: \n",
      "A value is trying to be set on a copy of a slice from a DataFrame\n",
      "\n",
      "See the caveats in the documentation: http://pandas.pydata.org/pandas-docs/stable/indexing.html#indexing-view-versus-copy\n"
     ]
    }
   ],
   "source": [
    "charge_list = ['Average_Covered_Charges', 'Average_Medicare_Payments',\\\n",
    "               'Average_Total_Payments','Patient_payment']\n",
    "  \n",
    "#df_alldata['Ones'] = int(1)    \n",
    "\n",
    "for charge_type in charge_list:\n",
    "\n",
    "    charge_type_mean = charge_type + \"_mean\"\n",
    "    charge_type_median = charge_type + \"_median\"\n",
    "    charge_type_std = charge_type + '_std'\n",
    "\n",
    "    charge_type_ST_mean = charge_type + \"_ST_mean\"\n",
    "    charge_type_ST_median = charge_type + \"_ST_median\"\n",
    "    charge_type_ST_std = charge_type + '_ST_std'\n",
    "    \n",
    "    column_name = charge_type_mean +'_3_bins'\n",
    "    #df_alldata[column_name] = df_alldata['Ones'].where(df_alldata[charge_type] >= df_alldata[charge_type_mean],0)\n",
    "    df_alldata[column_name] = '1'\n",
    "    df_alldata[column_name][df_alldata[charge_type] >= (df_alldata[charge_type_mean]+0.4*df_alldata[charge_type_std])] = '2'\n",
    "    df_alldata[column_name][df_alldata[charge_type] <= (df_alldata[charge_type_mean]-0.4*df_alldata[charge_type_std])] = '0'\n",
    "\n",
    "    \n",
    "    column_name = charge_type_mean +'_ST_3_bins'\n",
    "    #df_alldata[column_name] = df_alldata['Ones'].where(df_alldata[charge_type] >= df_alldata[charge_type_ST_mean],0)\n",
    "    df_alldata[column_name] = '1'\n",
    "    df_alldata[column_name][df_alldata[charge_type] >= (df_alldata[charge_type_ST_mean]+0.15*df_alldata[charge_type_ST_std])] = '2'\n",
    "    df_alldata[column_name][df_alldata[charge_type] <= (df_alldata[charge_type_ST_mean]-0.15*df_alldata[charge_type_ST_std])] = '0'\n",
    "\n",
    "    column_name = charge_type_median +'_3_bins'\n",
    "    #df_alldata[column_name] = df_alldata['Ones'].where(df_alldata[charge_type] >= df_alldata[charge_type_median],0)\n",
    "    df_alldata[column_name] = '1'\n",
    "    df_alldata[column_name][df_alldata[charge_type] >= (df_alldata[charge_type_median]+0.4*df_alldata[charge_type_std])] = '2'\n",
    "    df_alldata[column_name][df_alldata[charge_type] <= (df_alldata[charge_type_median]-0.4*df_alldata[charge_type_std])] = '0'\n",
    "\n",
    "    column_name = charge_type_median +'_ST_3_bins'\n",
    "    #df_alldata[column_name] = df_alldata['Ones'].where(df_alldata[charge_type] >= df_alldata[charge_type_ST_median],0)\n",
    "    df_alldata[column_name] = '1'\n",
    "    df_alldata[column_name][df_alldata[charge_type] >= (df_alldata[charge_type_ST_median]+0.15*df_alldata[charge_type_ST_std])] = '2'\n",
    "    df_alldata[column_name][df_alldata[charge_type] <= (df_alldata[charge_type_ST_median]-0.15*df_alldata[charge_type_ST_std])] = '0'\n",
    "\n",
    "    \n",
    "\n",
    "\n",
    "        "
   ]
  },
  {
   "cell_type": "code",
   "execution_count": 37,
   "metadata": {
    "collapsed": false
   },
   "outputs": [
    {
     "name": "stderr",
     "output_type": "stream",
     "text": [
      "/anaconda/lib/python2.7/site-packages/ipykernel/__main__.py:18: SettingWithCopyWarning: \n",
      "A value is trying to be set on a copy of a slice from a DataFrame\n",
      "\n",
      "See the caveats in the documentation: http://pandas.pydata.org/pandas-docs/stable/indexing.html#indexing-view-versus-copy\n",
      "/anaconda/lib/python2.7/site-packages/ipykernel/__main__.py:19: SettingWithCopyWarning: \n",
      "A value is trying to be set on a copy of a slice from a DataFrame\n",
      "\n",
      "See the caveats in the documentation: http://pandas.pydata.org/pandas-docs/stable/indexing.html#indexing-view-versus-copy\n",
      "/anaconda/lib/python2.7/site-packages/ipykernel/__main__.py:25: SettingWithCopyWarning: \n",
      "A value is trying to be set on a copy of a slice from a DataFrame\n",
      "\n",
      "See the caveats in the documentation: http://pandas.pydata.org/pandas-docs/stable/indexing.html#indexing-view-versus-copy\n",
      "/anaconda/lib/python2.7/site-packages/ipykernel/__main__.py:26: SettingWithCopyWarning: \n",
      "A value is trying to be set on a copy of a slice from a DataFrame\n",
      "\n",
      "See the caveats in the documentation: http://pandas.pydata.org/pandas-docs/stable/indexing.html#indexing-view-versus-copy\n",
      "/anaconda/lib/python2.7/site-packages/ipykernel/__main__.py:31: SettingWithCopyWarning: \n",
      "A value is trying to be set on a copy of a slice from a DataFrame\n",
      "\n",
      "See the caveats in the documentation: http://pandas.pydata.org/pandas-docs/stable/indexing.html#indexing-view-versus-copy\n",
      "/anaconda/lib/python2.7/site-packages/ipykernel/__main__.py:32: SettingWithCopyWarning: \n",
      "A value is trying to be set on a copy of a slice from a DataFrame\n",
      "\n",
      "See the caveats in the documentation: http://pandas.pydata.org/pandas-docs/stable/indexing.html#indexing-view-versus-copy\n",
      "/anaconda/lib/python2.7/site-packages/ipykernel/__main__.py:37: SettingWithCopyWarning: \n",
      "A value is trying to be set on a copy of a slice from a DataFrame\n",
      "\n",
      "See the caveats in the documentation: http://pandas.pydata.org/pandas-docs/stable/indexing.html#indexing-view-versus-copy\n",
      "/anaconda/lib/python2.7/site-packages/ipykernel/__main__.py:38: SettingWithCopyWarning: \n",
      "A value is trying to be set on a copy of a slice from a DataFrame\n",
      "\n",
      "See the caveats in the documentation: http://pandas.pydata.org/pandas-docs/stable/indexing.html#indexing-view-versus-copy\n"
     ]
    }
   ],
   "source": [
    "charge_list = ['log_Average_Covered_Charges', 'log_Average_Medicare_Payments',\\\n",
    "               'log_Average_Total_Payments','log_Patient_payment']\n",
    "  \n",
    "#df_alldata['Ones'] = int(1)    \n",
    "\n",
    "for charge_type in charge_list:\n",
    "\n",
    "    charge_type_mean = charge_type + \"_mean\"\n",
    "    charge_type_median = charge_type + \"_median\"\n",
    "    charge_type_std = charge_type + '_std'\n",
    "\n",
    "    charge_type_ST_mean = charge_type + \"_ST_mean\"\n",
    "    charge_type_ST_median = charge_type + \"_ST_median\"\n",
    "    charge_type_ST_std = charge_type + '_ST_std'\n",
    "    \n",
    "    column_name = charge_type_mean +'_3_bins'\n",
    "    #df_alldata[column_name] = df_alldata['Ones'].where(df_alldata[charge_type] >= df_alldata[charge_type_mean],0)\n",
    "    df_alldata[column_name] = '1'\n",
    "    df_alldata[column_name][df_alldata[charge_type] >= (df_alldata[charge_type_mean]+0.5*df_alldata[charge_type_std])] = '2'\n",
    "    df_alldata[column_name][df_alldata[charge_type] <= (df_alldata[charge_type_mean]-0.5*df_alldata[charge_type_std])] = '0'\n",
    "\n",
    "    \n",
    "    column_name = charge_type_mean +'_ST_3_bins'\n",
    "    #df_alldata[column_name] = df_alldata['Ones'].where(df_alldata[charge_type] >= df_alldata[charge_type_ST_mean],0)\n",
    "    df_alldata[column_name] = '1'\n",
    "    df_alldata[column_name][df_alldata[charge_type] >= (df_alldata[charge_type_ST_mean]+0.5*df_alldata[charge_type_ST_std])] = '2'\n",
    "    df_alldata[column_name][df_alldata[charge_type] <= (df_alldata[charge_type_ST_mean]-0.5*df_alldata[charge_type_ST_std])] = '0'\n",
    "\n",
    "    column_name = charge_type_median +'_3_bins'\n",
    "    #df_alldata[column_name] = df_alldata['Ones'].where(df_alldata[charge_type] >= df_alldata[charge_type_median],0)\n",
    "    df_alldata[column_name] = '1'\n",
    "    df_alldata[column_name][df_alldata[charge_type] >= (df_alldata[charge_type_median]+0.5*df_alldata[charge_type_std])] = '2'\n",
    "    df_alldata[column_name][df_alldata[charge_type] <= (df_alldata[charge_type_median]-0.5*df_alldata[charge_type_std])] = '0'\n",
    "\n",
    "    column_name = charge_type_median +'_ST_3_bins'\n",
    "    #df_alldata[column_name] = df_alldata['Ones'].where(df_alldata[charge_type] >= df_alldata[charge_type_ST_median],0)\n",
    "    df_alldata[column_name] = '1'\n",
    "    df_alldata[column_name][df_alldata[charge_type] >= (df_alldata[charge_type_ST_median]+0.5*df_alldata[charge_type_ST_std])] = '2'\n",
    "    df_alldata[column_name][df_alldata[charge_type] <= (df_alldata[charge_type_ST_median]-0.5*df_alldata[charge_type_ST_std])] = '0'\n",
    "\n",
    "    \n",
    "\n",
    "\n",
    "        "
   ]
  },
  {
   "cell_type": "code",
   "execution_count": 38,
   "metadata": {
    "collapsed": false
   },
   "outputs": [
    {
     "data": {
      "text/plain": [
       "Index([u'Average_Covered_Charges', u'Average_Medicare_Payments',\n",
       "       u'Average_Total_Payments', u'DRG_Definition',\n",
       "       u'Hospital_Referral_Region_(HRR)_Description', u'Provider_City',\n",
       "       u'Provider_ID', u'Provider_Name', u'Provider_State',\n",
       "       u'Provider_Street_Address',\n",
       "       ...\n",
       "       u'log_Average_Medicare_Payments_median_3_bins',\n",
       "       u'log_Average_Medicare_Payments_median_ST_3_bins',\n",
       "       u'log_Average_Total_Payments_mean_3_bins',\n",
       "       u'log_Average_Total_Payments_mean_ST_3_bins',\n",
       "       u'log_Average_Total_Payments_median_3_bins',\n",
       "       u'log_Average_Total_Payments_median_ST_3_bins',\n",
       "       u'log_Patient_payment_mean_3_bins',\n",
       "       u'log_Patient_payment_mean_ST_3_bins',\n",
       "       u'log_Patient_payment_median_3_bins',\n",
       "       u'log_Patient_payment_median_ST_3_bins'],\n",
       "      dtype='object', length=103)"
      ]
     },
     "execution_count": 38,
     "metadata": {},
     "output_type": "execute_result"
    }
   ],
   "source": [
    "df_alldata.columns"
   ]
  },
  {
   "cell_type": "markdown",
   "metadata": {},
   "source": [
    "Make sure data are equally distributed between groups:"
   ]
  },
  {
   "cell_type": "code",
   "execution_count": 39,
   "metadata": {
    "collapsed": false
   },
   "outputs": [
    {
     "data": {
      "text/plain": [
       "1    87646\n",
       "0    85494\n",
       "2    65411\n",
       "Name: log_Patient_payment_mean_3_bins, dtype: int64"
      ]
     },
     "execution_count": 39,
     "metadata": {},
     "output_type": "execute_result"
    }
   ],
   "source": [
    "df_alldata['log_Patient_payment_mean_3_bins'].value_counts()"
   ]
  },
  {
   "cell_type": "code",
   "execution_count": 40,
   "metadata": {
    "collapsed": false
   },
   "outputs": [
    {
     "data": {
      "text/plain": [
       "1    106561\n",
       "2     73439\n",
       "0     58551\n",
       "Name: log_Average_Total_Payments_median_3_bins, dtype: int64"
      ]
     },
     "execution_count": 40,
     "metadata": {},
     "output_type": "execute_result"
    }
   ],
   "source": [
    "df_alldata['log_Average_Total_Payments_median_3_bins'].value_counts()"
   ]
  },
  {
   "cell_type": "code",
   "execution_count": 41,
   "metadata": {
    "collapsed": false
   },
   "outputs": [
    {
     "data": {
      "text/plain": [
       "1    100626\n",
       "2     76619\n",
       "0     61306\n",
       "Name: log_Patient_payment_median_3_bins, dtype: int64"
      ]
     },
     "execution_count": 41,
     "metadata": {},
     "output_type": "execute_result"
    }
   ],
   "source": [
    "df_alldata['log_Patient_payment_median_3_bins'].value_counts()"
   ]
  },
  {
   "cell_type": "code",
   "execution_count": 42,
   "metadata": {
    "collapsed": false
   },
   "outputs": [
    {
     "data": {
      "text/plain": [
       "1    238545\n",
       "0         4\n",
       "2         2\n",
       "Name: log_Average_Covered_Charges_median_ST_3_bins, dtype: int64"
      ]
     },
     "execution_count": 42,
     "metadata": {},
     "output_type": "execute_result"
    }
   ],
   "source": [
    "df_alldata['log_Average_Covered_Charges_median_ST_3_bins'].value_counts()"
   ]
  },
  {
   "cell_type": "code",
   "execution_count": 43,
   "metadata": {
    "collapsed": false
   },
   "outputs": [
    {
     "data": {
      "text/plain": [
       "0    92192\n",
       "1    80469\n",
       "2    65890\n",
       "Name: Average_Covered_Charges_median_ST_3_bins, dtype: int64"
      ]
     },
     "execution_count": 43,
     "metadata": {},
     "output_type": "execute_result"
    }
   ],
   "source": [
    "df_alldata['Average_Covered_Charges_median_ST_3_bins'].value_counts()"
   ]
  },
  {
   "cell_type": "code",
   "execution_count": null,
   "metadata": {
    "collapsed": true
   },
   "outputs": [],
   "source": []
  },
  {
   "cell_type": "markdown",
   "metadata": {},
   "source": [
    "Explore what the bins look like:"
   ]
  },
  {
   "cell_type": "code",
   "execution_count": 44,
   "metadata": {
    "collapsed": false
   },
   "outputs": [
    {
     "data": {
      "text/html": [
       "<div>\n",
       "<table border=\"1\" class=\"dataframe\">\n",
       "  <thead>\n",
       "    <tr style=\"text-align: right;\">\n",
       "      <th></th>\n",
       "      <th>Average_Covered_Charges</th>\n",
       "      <th>Average_Medicare_Payments</th>\n",
       "      <th>Average_Total_Payments</th>\n",
       "      <th>DRG_Definition</th>\n",
       "      <th>Hospital_Referral_Region_(HRR)_Description</th>\n",
       "      <th>Provider_City</th>\n",
       "      <th>Provider_ID</th>\n",
       "      <th>Provider_Name</th>\n",
       "      <th>Provider_State</th>\n",
       "      <th>Provider_Street_Address</th>\n",
       "      <th>...</th>\n",
       "      <th>log_Average_Medicare_Payments_median_3_bins</th>\n",
       "      <th>log_Average_Medicare_Payments_median_ST_3_bins</th>\n",
       "      <th>log_Average_Total_Payments_mean_3_bins</th>\n",
       "      <th>log_Average_Total_Payments_mean_ST_3_bins</th>\n",
       "      <th>log_Average_Total_Payments_median_3_bins</th>\n",
       "      <th>log_Average_Total_Payments_median_ST_3_bins</th>\n",
       "      <th>log_Patient_payment_mean_3_bins</th>\n",
       "      <th>log_Patient_payment_mean_ST_3_bins</th>\n",
       "      <th>log_Patient_payment_median_3_bins</th>\n",
       "      <th>log_Patient_payment_median_ST_3_bins</th>\n",
       "    </tr>\n",
       "  </thead>\n",
       "  <tbody>\n",
       "    <tr>\n",
       "      <th>0</th>\n",
       "      <td>1172866.385</td>\n",
       "      <td>244457.9231</td>\n",
       "      <td>251876.3077</td>\n",
       "      <td>001 - HEART TRANSPLANT OR IMPLANT OF HEART ASS...</td>\n",
       "      <td>AL - Birmingham</td>\n",
       "      <td>BIRMINGHAM</td>\n",
       "      <td>10033</td>\n",
       "      <td>UNIVERSITY OF ALABAMA HOSPITAL</td>\n",
       "      <td>AL</td>\n",
       "      <td>619 SOUTH 19TH STREET</td>\n",
       "      <td>...</td>\n",
       "      <td>2</td>\n",
       "      <td>1</td>\n",
       "      <td>1</td>\n",
       "      <td>1</td>\n",
       "      <td>1</td>\n",
       "      <td>1</td>\n",
       "      <td>0</td>\n",
       "      <td>1</td>\n",
       "      <td>0</td>\n",
       "      <td>1</td>\n",
       "    </tr>\n",
       "    <tr>\n",
       "      <th>1</th>\n",
       "      <td>437531.300</td>\n",
       "      <td>133509.5500</td>\n",
       "      <td>240422.8000</td>\n",
       "      <td>001 - HEART TRANSPLANT OR IMPLANT OF HEART ASS...</td>\n",
       "      <td>AZ - Phoenix</td>\n",
       "      <td>PHOENIX</td>\n",
       "      <td>30103</td>\n",
       "      <td>MAYO CLINIC HOSPITAL</td>\n",
       "      <td>AZ</td>\n",
       "      <td>5777 EAST MAYO BOULEVARD</td>\n",
       "      <td>...</td>\n",
       "      <td>0</td>\n",
       "      <td>1</td>\n",
       "      <td>1</td>\n",
       "      <td>1</td>\n",
       "      <td>1</td>\n",
       "      <td>1</td>\n",
       "      <td>2</td>\n",
       "      <td>1</td>\n",
       "      <td>2</td>\n",
       "      <td>1</td>\n",
       "    </tr>\n",
       "    <tr>\n",
       "      <th>2</th>\n",
       "      <td>815674.120</td>\n",
       "      <td>221681.8000</td>\n",
       "      <td>233197.4800</td>\n",
       "      <td>001 - HEART TRANSPLANT OR IMPLANT OF HEART ASS...</td>\n",
       "      <td>CA - Sacramento</td>\n",
       "      <td>SACRAMENTO</td>\n",
       "      <td>50108</td>\n",
       "      <td>SUTTER GENERAL HOSPITAL</td>\n",
       "      <td>CA</td>\n",
       "      <td>2801 L STREET</td>\n",
       "      <td>...</td>\n",
       "      <td>2</td>\n",
       "      <td>1</td>\n",
       "      <td>1</td>\n",
       "      <td>1</td>\n",
       "      <td>1</td>\n",
       "      <td>1</td>\n",
       "      <td>0</td>\n",
       "      <td>1</td>\n",
       "      <td>0</td>\n",
       "      <td>1</td>\n",
       "    </tr>\n",
       "    <tr>\n",
       "      <th>3</th>\n",
       "      <td>1499043.571</td>\n",
       "      <td>366608.9286</td>\n",
       "      <td>415968.7857</td>\n",
       "      <td>001 - HEART TRANSPLANT OR IMPLANT OF HEART ASS...</td>\n",
       "      <td>CA - Los Angeles</td>\n",
       "      <td>LOS ANGELES</td>\n",
       "      <td>50262</td>\n",
       "      <td>RONALD REAGAN U C L A MEDICAL CENTER</td>\n",
       "      <td>CA</td>\n",
       "      <td>757 WESTWOOD PLAZA</td>\n",
       "      <td>...</td>\n",
       "      <td>2</td>\n",
       "      <td>1</td>\n",
       "      <td>2</td>\n",
       "      <td>1</td>\n",
       "      <td>2</td>\n",
       "      <td>1</td>\n",
       "      <td>2</td>\n",
       "      <td>1</td>\n",
       "      <td>2</td>\n",
       "      <td>1</td>\n",
       "    </tr>\n",
       "    <tr>\n",
       "      <th>4</th>\n",
       "      <td>2238699.130</td>\n",
       "      <td>403453.6522</td>\n",
       "      <td>420865.4783</td>\n",
       "      <td>001 - HEART TRANSPLANT OR IMPLANT OF HEART ASS...</td>\n",
       "      <td>CA - San Mateo County</td>\n",
       "      <td>STANFORD</td>\n",
       "      <td>50441</td>\n",
       "      <td>STANFORD HOSPITAL</td>\n",
       "      <td>CA</td>\n",
       "      <td>300 PASTEUR DRIVE</td>\n",
       "      <td>...</td>\n",
       "      <td>2</td>\n",
       "      <td>1</td>\n",
       "      <td>2</td>\n",
       "      <td>1</td>\n",
       "      <td>2</td>\n",
       "      <td>1</td>\n",
       "      <td>1</td>\n",
       "      <td>1</td>\n",
       "      <td>1</td>\n",
       "      <td>1</td>\n",
       "    </tr>\n",
       "  </tbody>\n",
       "</table>\n",
       "<p>5 rows × 103 columns</p>\n",
       "</div>"
      ],
      "text/plain": [
       "   Average_Covered_Charges  Average_Medicare_Payments  Average_Total_Payments  \\\n",
       "0              1172866.385                244457.9231             251876.3077   \n",
       "1               437531.300                133509.5500             240422.8000   \n",
       "2               815674.120                221681.8000             233197.4800   \n",
       "3              1499043.571                366608.9286             415968.7857   \n",
       "4              2238699.130                403453.6522             420865.4783   \n",
       "\n",
       "                                      DRG_Definition  \\\n",
       "0  001 - HEART TRANSPLANT OR IMPLANT OF HEART ASS...   \n",
       "1  001 - HEART TRANSPLANT OR IMPLANT OF HEART ASS...   \n",
       "2  001 - HEART TRANSPLANT OR IMPLANT OF HEART ASS...   \n",
       "3  001 - HEART TRANSPLANT OR IMPLANT OF HEART ASS...   \n",
       "4  001 - HEART TRANSPLANT OR IMPLANT OF HEART ASS...   \n",
       "\n",
       "  Hospital_Referral_Region_(HRR)_Description Provider_City  Provider_ID  \\\n",
       "0                            AL - Birmingham    BIRMINGHAM        10033   \n",
       "1                               AZ - Phoenix       PHOENIX        30103   \n",
       "2                            CA - Sacramento    SACRAMENTO        50108   \n",
       "3                           CA - Los Angeles   LOS ANGELES        50262   \n",
       "4                      CA - San Mateo County      STANFORD        50441   \n",
       "\n",
       "                          Provider_Name Provider_State  \\\n",
       "0        UNIVERSITY OF ALABAMA HOSPITAL             AL   \n",
       "1                  MAYO CLINIC HOSPITAL             AZ   \n",
       "2               SUTTER GENERAL HOSPITAL             CA   \n",
       "3  RONALD REAGAN U C L A MEDICAL CENTER             CA   \n",
       "4                     STANFORD HOSPITAL             CA   \n",
       "\n",
       "    Provider_Street_Address                  ...                   \\\n",
       "0     619 SOUTH 19TH STREET                  ...                    \n",
       "1  5777 EAST MAYO BOULEVARD                  ...                    \n",
       "2             2801 L STREET                  ...                    \n",
       "3        757 WESTWOOD PLAZA                  ...                    \n",
       "4         300 PASTEUR DRIVE                  ...                    \n",
       "\n",
       "   log_Average_Medicare_Payments_median_3_bins  \\\n",
       "0                                            2   \n",
       "1                                            0   \n",
       "2                                            2   \n",
       "3                                            2   \n",
       "4                                            2   \n",
       "\n",
       "  log_Average_Medicare_Payments_median_ST_3_bins  \\\n",
       "0                                              1   \n",
       "1                                              1   \n",
       "2                                              1   \n",
       "3                                              1   \n",
       "4                                              1   \n",
       "\n",
       "   log_Average_Total_Payments_mean_3_bins  \\\n",
       "0                                       1   \n",
       "1                                       1   \n",
       "2                                       1   \n",
       "3                                       2   \n",
       "4                                       2   \n",
       "\n",
       "  log_Average_Total_Payments_mean_ST_3_bins  \\\n",
       "0                                         1   \n",
       "1                                         1   \n",
       "2                                         1   \n",
       "3                                         1   \n",
       "4                                         1   \n",
       "\n",
       "  log_Average_Total_Payments_median_3_bins  \\\n",
       "0                                        1   \n",
       "1                                        1   \n",
       "2                                        1   \n",
       "3                                        2   \n",
       "4                                        2   \n",
       "\n",
       "  log_Average_Total_Payments_median_ST_3_bins log_Patient_payment_mean_3_bins  \\\n",
       "0                                           1                               0   \n",
       "1                                           1                               2   \n",
       "2                                           1                               0   \n",
       "3                                           1                               2   \n",
       "4                                           1                               1   \n",
       "\n",
       "  log_Patient_payment_mean_ST_3_bins  log_Patient_payment_median_3_bins  \\\n",
       "0                                  1                                  0   \n",
       "1                                  1                                  2   \n",
       "2                                  1                                  0   \n",
       "3                                  1                                  2   \n",
       "4                                  1                                  1   \n",
       "\n",
       "   log_Patient_payment_median_ST_3_bins  \n",
       "0                                     1  \n",
       "1                                     1  \n",
       "2                                     1  \n",
       "3                                     1  \n",
       "4                                     1  \n",
       "\n",
       "[5 rows x 103 columns]"
      ]
     },
     "execution_count": 44,
     "metadata": {},
     "output_type": "execute_result"
    }
   ],
   "source": [
    "df_alldata.head()"
   ]
  },
  {
   "cell_type": "code",
   "execution_count": 45,
   "metadata": {
    "collapsed": false
   },
   "outputs": [
    {
     "data": {
      "text/plain": [
       "(238551, 103)"
      ]
     },
     "execution_count": 45,
     "metadata": {},
     "output_type": "execute_result"
    }
   ],
   "source": [
    "df_alldata.shape"
   ]
  },
  {
   "cell_type": "code",
   "execution_count": 46,
   "metadata": {
    "collapsed": false
   },
   "outputs": [
    {
     "data": {
      "text/plain": [
       "1    89814\n",
       "0    85735\n",
       "2    63002\n",
       "Name: log_Average_Medicare_Payments_median_3_bins, dtype: int64"
      ]
     },
     "execution_count": 46,
     "metadata": {},
     "output_type": "execute_result"
    }
   ],
   "source": [
    "df_alldata['log_Average_Medicare_Payments_median_3_bins'].value_counts()"
   ]
  },
  {
   "cell_type": "code",
   "execution_count": 47,
   "metadata": {
    "collapsed": false,
    "scrolled": false
   },
   "outputs": [
    {
     "data": {
      "text/html": [
       "<div>\n",
       "<table border=\"1\" class=\"dataframe\">\n",
       "  <thead>\n",
       "    <tr style=\"text-align: right;\">\n",
       "      <th></th>\n",
       "      <th>Average_Covered_Charges</th>\n",
       "      <th>Average_Medicare_Payments</th>\n",
       "      <th>Average_Total_Payments</th>\n",
       "      <th>DRG_Definition</th>\n",
       "      <th>Hospital_Referral_Region_(HRR)_Description</th>\n",
       "      <th>Provider_City</th>\n",
       "      <th>Provider_ID</th>\n",
       "      <th>Provider_Name</th>\n",
       "      <th>Provider_State</th>\n",
       "      <th>Provider_Street_Address</th>\n",
       "      <th>...</th>\n",
       "      <th>log_Average_Medicare_Payments_median_ST_3_bins</th>\n",
       "      <th>log_Average_Total_Payments_mean_3_bins</th>\n",
       "      <th>log_Average_Total_Payments_mean_ST_3_bins</th>\n",
       "      <th>log_Average_Total_Payments_median_3_bins</th>\n",
       "      <th>log_Average_Total_Payments_median_ST_3_bins</th>\n",
       "      <th>log_Patient_payment_mean_3_bins</th>\n",
       "      <th>log_Patient_payment_mean_ST_3_bins</th>\n",
       "      <th>log_Patient_payment_median_3_bins</th>\n",
       "      <th>log_Patient_payment_median_ST_3_bins</th>\n",
       "      <th>DRG_Definition_count</th>\n",
       "    </tr>\n",
       "  </thead>\n",
       "  <tbody>\n",
       "    <tr>\n",
       "      <th>0</th>\n",
       "      <td>1172866.385</td>\n",
       "      <td>244457.9231</td>\n",
       "      <td>251876.3077</td>\n",
       "      <td>001 - HEART TRANSPLANT OR IMPLANT OF HEART ASS...</td>\n",
       "      <td>AL - Birmingham</td>\n",
       "      <td>BIRMINGHAM</td>\n",
       "      <td>10033</td>\n",
       "      <td>UNIVERSITY OF ALABAMA HOSPITAL</td>\n",
       "      <td>AL</td>\n",
       "      <td>619 SOUTH 19TH STREET</td>\n",
       "      <td>...</td>\n",
       "      <td>1</td>\n",
       "      <td>1</td>\n",
       "      <td>1</td>\n",
       "      <td>1</td>\n",
       "      <td>1</td>\n",
       "      <td>0</td>\n",
       "      <td>1</td>\n",
       "      <td>0</td>\n",
       "      <td>1</td>\n",
       "      <td>68</td>\n",
       "    </tr>\n",
       "    <tr>\n",
       "      <th>1</th>\n",
       "      <td>437531.300</td>\n",
       "      <td>133509.5500</td>\n",
       "      <td>240422.8000</td>\n",
       "      <td>001 - HEART TRANSPLANT OR IMPLANT OF HEART ASS...</td>\n",
       "      <td>AZ - Phoenix</td>\n",
       "      <td>PHOENIX</td>\n",
       "      <td>30103</td>\n",
       "      <td>MAYO CLINIC HOSPITAL</td>\n",
       "      <td>AZ</td>\n",
       "      <td>5777 EAST MAYO BOULEVARD</td>\n",
       "      <td>...</td>\n",
       "      <td>1</td>\n",
       "      <td>1</td>\n",
       "      <td>1</td>\n",
       "      <td>1</td>\n",
       "      <td>1</td>\n",
       "      <td>2</td>\n",
       "      <td>1</td>\n",
       "      <td>2</td>\n",
       "      <td>1</td>\n",
       "      <td>68</td>\n",
       "    </tr>\n",
       "    <tr>\n",
       "      <th>2</th>\n",
       "      <td>815674.120</td>\n",
       "      <td>221681.8000</td>\n",
       "      <td>233197.4800</td>\n",
       "      <td>001 - HEART TRANSPLANT OR IMPLANT OF HEART ASS...</td>\n",
       "      <td>CA - Sacramento</td>\n",
       "      <td>SACRAMENTO</td>\n",
       "      <td>50108</td>\n",
       "      <td>SUTTER GENERAL HOSPITAL</td>\n",
       "      <td>CA</td>\n",
       "      <td>2801 L STREET</td>\n",
       "      <td>...</td>\n",
       "      <td>1</td>\n",
       "      <td>1</td>\n",
       "      <td>1</td>\n",
       "      <td>1</td>\n",
       "      <td>1</td>\n",
       "      <td>0</td>\n",
       "      <td>1</td>\n",
       "      <td>0</td>\n",
       "      <td>1</td>\n",
       "      <td>68</td>\n",
       "    </tr>\n",
       "    <tr>\n",
       "      <th>3</th>\n",
       "      <td>1499043.571</td>\n",
       "      <td>366608.9286</td>\n",
       "      <td>415968.7857</td>\n",
       "      <td>001 - HEART TRANSPLANT OR IMPLANT OF HEART ASS...</td>\n",
       "      <td>CA - Los Angeles</td>\n",
       "      <td>LOS ANGELES</td>\n",
       "      <td>50262</td>\n",
       "      <td>RONALD REAGAN U C L A MEDICAL CENTER</td>\n",
       "      <td>CA</td>\n",
       "      <td>757 WESTWOOD PLAZA</td>\n",
       "      <td>...</td>\n",
       "      <td>1</td>\n",
       "      <td>2</td>\n",
       "      <td>1</td>\n",
       "      <td>2</td>\n",
       "      <td>1</td>\n",
       "      <td>2</td>\n",
       "      <td>1</td>\n",
       "      <td>2</td>\n",
       "      <td>1</td>\n",
       "      <td>68</td>\n",
       "    </tr>\n",
       "    <tr>\n",
       "      <th>4</th>\n",
       "      <td>2238699.130</td>\n",
       "      <td>403453.6522</td>\n",
       "      <td>420865.4783</td>\n",
       "      <td>001 - HEART TRANSPLANT OR IMPLANT OF HEART ASS...</td>\n",
       "      <td>CA - San Mateo County</td>\n",
       "      <td>STANFORD</td>\n",
       "      <td>50441</td>\n",
       "      <td>STANFORD HOSPITAL</td>\n",
       "      <td>CA</td>\n",
       "      <td>300 PASTEUR DRIVE</td>\n",
       "      <td>...</td>\n",
       "      <td>1</td>\n",
       "      <td>2</td>\n",
       "      <td>1</td>\n",
       "      <td>2</td>\n",
       "      <td>1</td>\n",
       "      <td>1</td>\n",
       "      <td>1</td>\n",
       "      <td>1</td>\n",
       "      <td>1</td>\n",
       "      <td>68</td>\n",
       "    </tr>\n",
       "  </tbody>\n",
       "</table>\n",
       "<p>5 rows × 104 columns</p>\n",
       "</div>"
      ],
      "text/plain": [
       "   Average_Covered_Charges  Average_Medicare_Payments  Average_Total_Payments  \\\n",
       "0              1172866.385                244457.9231             251876.3077   \n",
       "1               437531.300                133509.5500             240422.8000   \n",
       "2               815674.120                221681.8000             233197.4800   \n",
       "3              1499043.571                366608.9286             415968.7857   \n",
       "4              2238699.130                403453.6522             420865.4783   \n",
       "\n",
       "                                      DRG_Definition  \\\n",
       "0  001 - HEART TRANSPLANT OR IMPLANT OF HEART ASS...   \n",
       "1  001 - HEART TRANSPLANT OR IMPLANT OF HEART ASS...   \n",
       "2  001 - HEART TRANSPLANT OR IMPLANT OF HEART ASS...   \n",
       "3  001 - HEART TRANSPLANT OR IMPLANT OF HEART ASS...   \n",
       "4  001 - HEART TRANSPLANT OR IMPLANT OF HEART ASS...   \n",
       "\n",
       "  Hospital_Referral_Region_(HRR)_Description Provider_City  Provider_ID  \\\n",
       "0                            AL - Birmingham    BIRMINGHAM        10033   \n",
       "1                               AZ - Phoenix       PHOENIX        30103   \n",
       "2                            CA - Sacramento    SACRAMENTO        50108   \n",
       "3                           CA - Los Angeles   LOS ANGELES        50262   \n",
       "4                      CA - San Mateo County      STANFORD        50441   \n",
       "\n",
       "                          Provider_Name Provider_State  \\\n",
       "0        UNIVERSITY OF ALABAMA HOSPITAL             AL   \n",
       "1                  MAYO CLINIC HOSPITAL             AZ   \n",
       "2               SUTTER GENERAL HOSPITAL             CA   \n",
       "3  RONALD REAGAN U C L A MEDICAL CENTER             CA   \n",
       "4                     STANFORD HOSPITAL             CA   \n",
       "\n",
       "    Provider_Street_Address          ...           \\\n",
       "0     619 SOUTH 19TH STREET          ...            \n",
       "1  5777 EAST MAYO BOULEVARD          ...            \n",
       "2             2801 L STREET          ...            \n",
       "3        757 WESTWOOD PLAZA          ...            \n",
       "4         300 PASTEUR DRIVE          ...            \n",
       "\n",
       "   log_Average_Medicare_Payments_median_ST_3_bins  \\\n",
       "0                                               1   \n",
       "1                                               1   \n",
       "2                                               1   \n",
       "3                                               1   \n",
       "4                                               1   \n",
       "\n",
       "  log_Average_Total_Payments_mean_3_bins  \\\n",
       "0                                      1   \n",
       "1                                      1   \n",
       "2                                      1   \n",
       "3                                      2   \n",
       "4                                      2   \n",
       "\n",
       "   log_Average_Total_Payments_mean_ST_3_bins  \\\n",
       "0                                          1   \n",
       "1                                          1   \n",
       "2                                          1   \n",
       "3                                          1   \n",
       "4                                          1   \n",
       "\n",
       "  log_Average_Total_Payments_median_3_bins  \\\n",
       "0                                        1   \n",
       "1                                        1   \n",
       "2                                        1   \n",
       "3                                        2   \n",
       "4                                        2   \n",
       "\n",
       "  log_Average_Total_Payments_median_ST_3_bins log_Patient_payment_mean_3_bins  \\\n",
       "0                                           1                               0   \n",
       "1                                           1                               2   \n",
       "2                                           1                               0   \n",
       "3                                           1                               2   \n",
       "4                                           1                               1   \n",
       "\n",
       "  log_Patient_payment_mean_ST_3_bins log_Patient_payment_median_3_bins  \\\n",
       "0                                  1                                 0   \n",
       "1                                  1                                 2   \n",
       "2                                  1                                 0   \n",
       "3                                  1                                 2   \n",
       "4                                  1                                 1   \n",
       "\n",
       "   log_Patient_payment_median_ST_3_bins  DRG_Definition_count  \n",
       "0                                     1                    68  \n",
       "1                                     1                    68  \n",
       "2                                     1                    68  \n",
       "3                                     1                    68  \n",
       "4                                     1                    68  \n",
       "\n",
       "[5 rows x 104 columns]"
      ]
     },
     "execution_count": 47,
     "metadata": {},
     "output_type": "execute_result"
    }
   ],
   "source": [
    "df_alldata = df_alldata.join(df_alldata.groupby('DRG_Definition')['DRG_Definition'].count(), on='DRG_Definition', rsuffix='_count')\n",
    "df_alldata.head()\n"
   ]
  },
  {
   "cell_type": "markdown",
   "metadata": {},
   "source": [
    "Pickle the df so can import into the model building notebook:"
   ]
  },
  {
   "cell_type": "code",
   "execution_count": 51,
   "metadata": {
    "collapsed": true
   },
   "outputs": [],
   "source": [
    "folder = '/Users/torrie/Documents/Metis_Project_3_(McNulty)/'\n",
    "\n",
    "with open(folder +'IP_OP_Hosp_binned_3_df.pkl', 'wb') as picklefile:\n",
    "    pickle.dump(df_alldata, picklefile)"
   ]
  },
  {
   "cell_type": "code",
   "execution_count": 50,
   "metadata": {
    "collapsed": false
   },
   "outputs": [
    {
     "data": {
      "text/plain": [
       "0    92192\n",
       "1    80469\n",
       "2    65890\n",
       "Name: Average_Covered_Charges_median_ST_3_bins, dtype: int64"
      ]
     },
     "execution_count": 50,
     "metadata": {},
     "output_type": "execute_result"
    }
   ],
   "source": [
    "df_alldata.Average_Covered_Charges_median_ST_3_bins.value_counts()"
   ]
  },
  {
   "cell_type": "code",
   "execution_count": null,
   "metadata": {
    "collapsed": true
   },
   "outputs": [],
   "source": []
  },
  {
   "cell_type": "code",
   "execution_count": null,
   "metadata": {
    "collapsed": true
   },
   "outputs": [],
   "source": []
  },
  {
   "cell_type": "code",
   "execution_count": null,
   "metadata": {
    "collapsed": true
   },
   "outputs": [],
   "source": []
  }
 ],
 "metadata": {
  "kernelspec": {
   "display_name": "Python 2",
   "language": "python",
   "name": "python2"
  },
  "language_info": {
   "codemirror_mode": {
    "name": "ipython",
    "version": 2
   },
   "file_extension": ".py",
   "mimetype": "text/x-python",
   "name": "python",
   "nbconvert_exporter": "python",
   "pygments_lexer": "ipython2",
   "version": "2.7.13"
  }
 },
 "nbformat": 4,
 "nbformat_minor": 2
}

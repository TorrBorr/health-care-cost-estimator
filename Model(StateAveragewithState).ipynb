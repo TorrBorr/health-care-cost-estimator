{
 "cells": [
  {
   "cell_type": "code",
   "execution_count": 1,
   "metadata": {
    "collapsed": true
   },
   "outputs": [],
   "source": [
    "import time\n",
    "import itertools\n",
    "import time, os, fnmatch, shutil\n",
    "import pickle\n",
    "import re\n",
    "# Python 2 & 3 Compatibility\n",
    "from __future__ import print_function, division\n",
    "\n",
    "# Necessary imports\n",
    "import pandas as pd\n",
    "import numpy as np\n",
    "import statsmodels.api as sm\n",
    "import statsmodels.formula.api as smf\n",
    "import patsy\n",
    "import seaborn as sns\n",
    "from seaborn import plt\n",
    "import matplotlib\n",
    "\n",
    "#matplotlib.rcParams.update({'font.size': 22})\n",
    "\n",
    "%matplotlib inline\n",
    "\n",
    "from __future__ import print_function, division\n",
    "import requests"
   ]
  },
  {
   "cell_type": "code",
   "execution_count": 2,
   "metadata": {
    "collapsed": false
   },
   "outputs": [],
   "source": [
    "folder = '/Users/torrie/Documents/Metis_Project_3_(McNulty)/'\n",
    "pkl_filename_master = folder + 'All_data_final_with_ins_2.pkl'\n",
    "with open(pkl_filename_master, 'rb') as picklefile: \n",
    "    df_model_data = pickle.load(picklefile)"
   ]
  },
  {
   "cell_type": "code",
   "execution_count": 3,
   "metadata": {
    "collapsed": false
   },
   "outputs": [
    {
     "data": {
      "text/plain": [
       "Index([u'Average_Covered_Charges', u'Average_Medicare_Payments',\n",
       "       u'Average_Total_Payments', u'DRG_Definition',\n",
       "       u'Hospital_Referral_Region_(HRR)_Description', u'Provider_City',\n",
       "       u'Provider_ID', u'Provider_Name', u'Provider_State',\n",
       "       u'Provider_Street_Address',\n",
       "       ...\n",
       "       u'Uninsured: MOE', u'Uninsured: %', u'Uninsured: %MOE',\n",
       "       u'Insured: Number', u'Insured: MOE', u'Insured: %', u'Insured: %MOE',\n",
       "       u'county_only', u'State_abbrev', u'State_full'],\n",
       "      dtype='object', length=145)"
      ]
     },
     "execution_count": 3,
     "metadata": {},
     "output_type": "execute_result"
    }
   ],
   "source": [
    "df_model_data.columns"
   ]
  },
  {
   "cell_type": "code",
   "execution_count": 4,
   "metadata": {
    "collapsed": true
   },
   "outputs": [],
   "source": [
    "df_Model_1 = df_model_data.copy()"
   ]
  },
  {
   "cell_type": "code",
   "execution_count": 5,
   "metadata": {
    "collapsed": true
   },
   "outputs": [],
   "source": [
    "Column_list = [u'log_Average_Covered_Charges_ST_mean',\\\n",
    "       u'log_Average_Covered_Charges_ST_median',\\\n",
    "       u'log_Average_Covered_Charges_ST_std',\\\n",
    "       u'log_Average_Medicare_Payments_ST_mean',\\\n",
    "       u'log_Average_Medicare_Payments_ST_median',\\\n",
    "       u'log_Average_Medicare_Payments_ST_std',\\\n",
    "       u'log_Average_Total_Payments_ST_mean',\\\n",
    "       u'log_Average_Total_Payments_ST_median',\\\n",
    "       u'log_Average_Total_Payments_ST_std', u'log_Patient_payment_ST_mean',\\\n",
    "       u'log_Patient_payment_ST_median', u'log_Patient_payment_ST_std',\\\n",
    "       u'Average_Covered_Charges_mean_3_bins',\\\n",
    "       u'Average_Covered_Charges_mean_ST_3_bins',\\\n",
    "       u'Average_Covered_Charges_median_ST_3_bins',\\\n",
    "       u'Average_Medicare_Payments_mean_3_bins',\\\n",
    "       u'Average_Medicare_Payments_mean_ST_3_bins',\\\n",
    "       u'Average_Medicare_Payments_median_3_bins',\\\n",
    "       u'Average_Medicare_Payments_median_ST_3_bins',\\\n",
    "       u'Average_Total_Payments_mean_3_bins',\\\n",
    "       u'Average_Total_Payments_mean_ST_3_bins',\\\n",
    "       u'Average_Total_Payments_median_3_bins',\\\n",
    "       u'Average_Total_Payments_median_ST_3_bins',\\\n",
    "       u'Patient_payment_mean_3_bins', u'Patient_payment_mean_ST_3_bins',\\\n",
    "       u'Patient_payment_median_3_bins', u'Patient_payment_median_ST_3_bins',\\\n",
    "       u'log_Average_Covered_Charges_mean_3_bins',\\\n",
    "       u'log_Average_Covered_Charges_mean_ST_3_bins',\\\n",
    "       u'log_Average_Covered_Charges_median_ST_3_bins',\\\n",
    "       u'log_Average_Medicare_Payments_mean_3_bins',\\\n",
    "       u'log_Average_Medicare_Payments_mean_ST_3_bins',\\\n",
    "       u'log_Average_Medicare_Payments_median_3_bins',\\\n",
    "       u'log_Average_Medicare_Payments_median_ST_3_bins',\\\n",
    "       u'log_Average_Total_Payments_mean_3_bins',\\\n",
    "       u'log_Average_Total_Payments_mean_ST_3_bins',\\\n",
    "       u'log_Average_Total_Payments_median_3_bins',\\\n",
    "       u'log_Average_Total_Payments_median_ST_3_bins',\\\n",
    "       u'log_Patient_payment_mean_3_bins',\\\n",
    "       u'log_Patient_payment_mean_ST_3_bins',\\\n",
    "       u'log_Patient_payment_median_3_bins',\\\n",
    "       u'log_Patient_payment_median_ST_3_bins',\\\n",
    "              u'log_Average_Covered_Charges_median_3_bins',\\\n",
    "              u'Average_Covered_Charges_median_3_bins']\n",
    "\n",
    "\n",
    "for column in Column_list:\n",
    "    df_Model_1[column] = pd.to_numeric(df_Model_1[column])\n",
    "    df_Model_1[column] = df_Model_1[column].astype(float)\n",
    "    "
   ]
  },
  {
   "cell_type": "code",
   "execution_count": 6,
   "metadata": {
    "collapsed": false
   },
   "outputs": [],
   "source": [
    "#df_Model_1 = df_Model_1.drop(['Patient_payment','Patient_Payments_Stdev','Patient_Payments_Avg','Medicare_Payments_Std','Medicare_Payments_Avg','Total_Payments_Stdev','Total_Payments_Avg','Covered_Charges_Stdev','Covered_Charges_Avg','Provider_Name','Average_Covered_Charges','Provider_Street_Address','Provider_City','Hospital_Referral_Region_Description','Total_Discharges','Average_Total_Payments','Meets_criteria_for_meaningful_use_of_EHRs','Readmission_national_comparison','Patient_experience_national_comparison','Average_Medicare_Payments','Hospital_Name', 'County_Name'],1)\n",
    "\n",
    "df_Model_1 = df_Model_1.drop([u'Average_Covered_Charges', u'Average_Medicare_Payments',\\\n",
    "       u'Average_Total_Payments', \\\n",
    "       u'Hospital_Referral_Region_(HRR)_Description', u'Provider_City',\\\n",
    "       u'Provider_ID', u'Provider_Name',\\\n",
    "       u'Provider_Street_Address',u'Total_Discharges',\\\n",
    "       u'Hospital_Name',u'Patient_payment',\\\n",
    "       u'log_Average_Covered_Charges', u'log_Average_Medicare_Payments',\\\n",
    "       u'log_Average_Total_Payments', u'log_Patient_payment',\\\n",
    "       u'Average_Covered_Charges_mean', u'Average_Covered_Charges_median',\\\n",
    "       u'Average_Covered_Charges_std', u'Average_Medicare_Payments_mean',\\\n",
    "       u'Average_Medicare_Payments_median', u'Average_Medicare_Payments_std',\\\n",
    "       u'Average_Total_Payments_mean', u'Average_Total_Payments_median',\\\n",
    "       u'Average_Total_Payments_std', u'Patient_payment_mean',\\\n",
    "       u'Patient_payment_median', u'Patient_payment_std',\\\n",
    "       u'log_Average_Covered_Charges_mean',\\\n",
    "       u'log_Average_Covered_Charges_median',\\\n",
    "       u'log_Average_Covered_Charges_std',\\\n",
    "       u'log_Average_Medicare_Payments_mean',\\\n",
    "       u'log_Average_Medicare_Payments_median',\\\n",
    "       u'log_Average_Medicare_Payments_std',\\\n",
    "       u'log_Average_Total_Payments_mean',\\\n",
    "       u'log_Average_Total_Payments_median', u'log_Average_Total_Payments_std',\\\n",
    "       u'log_Patient_payment_mean', u'log_Patient_payment_median',\\\n",
    "       u'log_Patient_payment_std', u'Average_Covered_Charges_ST_mean',\\\n",
    "       u'Average_Covered_Charges_ST_median', u'Average_Covered_Charges_ST_std',\\\n",
    "       u'Average_Medicare_Payments_ST_mean',\\\n",
    "       u'Average_Medicare_Payments_ST_median',\\\n",
    "       u'Average_Medicare_Payments_ST_std', u'Average_Total_Payments_ST_mean',\\\n",
    "       u'Average_Total_Payments_ST_median', u'Average_Total_Payments_ST_std',\\\n",
    "       u'Patient_payment_ST_mean', u'Patient_payment_ST_median',\\\n",
    "       u'Patient_payment_ST_std', u'log_Average_Covered_Charges_ST_mean',\\\n",
    "       u'log_Average_Covered_Charges_ST_median',\\\n",
    "       u'log_Average_Covered_Charges_ST_std',\\\n",
    "       u'log_Average_Medicare_Payments_ST_mean',\\\n",
    "       u'log_Average_Medicare_Payments_ST_median',\\\n",
    "       u'log_Average_Medicare_Payments_ST_std',\\\n",
    "       u'log_Average_Total_Payments_ST_mean',\\\n",
    "       u'log_Average_Total_Payments_ST_median',\\\n",
    "       u'log_Average_Total_Payments_ST_std', u'log_Patient_payment_ST_mean',\\\n",
    "       u'log_Patient_payment_ST_median', u'log_Patient_payment_ST_std',\\\n",
    "       u'Average_Covered_Charges_mean_3_bins',\\\n",
    "       u'Average_Covered_Charges_mean_ST_3_bins',\\\n",
    "       u'Average_Medicare_Payments_mean_3_bins',\\\n",
    "       u'Average_Medicare_Payments_mean_ST_3_bins',\\\n",
    "       u'Average_Medicare_Payments_median_3_bins',\\\n",
    "       u'Average_Medicare_Payments_median_ST_3_bins',\\\n",
    "       u'Average_Total_Payments_mean_3_bins',\\\n",
    "       u'Average_Total_Payments_mean_ST_3_bins',\\\n",
    "       u'Average_Total_Payments_median_3_bins',\\\n",
    "       u'Average_Total_Payments_median_ST_3_bins',\\\n",
    "       u'Patient_payment_mean_3_bins', u'Patient_payment_mean_ST_3_bins',\\\n",
    "       u'Patient_payment_median_3_bins', u'Patient_payment_median_ST_3_bins',\\\n",
    "       u'log_Average_Covered_Charges_mean_3_bins',\\\n",
    "       u'log_Average_Covered_Charges_mean_ST_3_bins',\\\n",
    "       u'log_Average_Medicare_Payments_mean_3_bins',\\\n",
    "       u'log_Average_Medicare_Payments_mean_ST_3_bins',\\\n",
    "       u'log_Average_Medicare_Payments_median_3_bins',\\\n",
    "       u'log_Average_Medicare_Payments_median_ST_3_bins',\\\n",
    "       u'log_Average_Total_Payments_mean_3_bins',\\\n",
    "       u'log_Average_Total_Payments_mean_ST_3_bins',\\\n",
    "       u'log_Average_Total_Payments_median_3_bins',\\\n",
    "       u'log_Average_Total_Payments_median_ST_3_bins',\\\n",
    "       u'log_Patient_payment_mean_3_bins',\\\n",
    "       u'log_Patient_payment_mean_ST_3_bins',\\\n",
    "       u'log_Patient_payment_median_3_bins',\\\n",
    "       u'log_Patient_payment_median_ST_3_bins',\\\n",
    "       u'Average_Covered_Charges_median_3_bins',\\\n",
    "       u'log_Average_Covered_Charges_median_3_bins',\\\n",
    "       u'Provider_State', u'Provider_Zip_Code',\\\n",
    "        u'State_spelled', u'County_State',\\\n",
    "        u'County', u'State',u'Percent_female',\\\n",
    "        u'Percent_some_other_race',u'Mean_income_zip',\\\n",
    "                             u'County_Name'],1)\n",
    " \n"
   ]
  },
  {
   "cell_type": "code",
   "execution_count": 7,
   "metadata": {
    "collapsed": false
   },
   "outputs": [
    {
     "data": {
      "text/plain": [
       "0    92192\n",
       "1    80469\n",
       "2    65890\n",
       "Name: Average_Covered_Charges_median_ST_3_bins, dtype: int64"
      ]
     },
     "execution_count": 7,
     "metadata": {},
     "output_type": "execute_result"
    }
   ],
   "source": [
    "df_model_data.Average_Covered_Charges_median_ST_3_bins.value_counts()\n"
   ]
  },
  {
   "cell_type": "code",
   "execution_count": 8,
   "metadata": {
    "collapsed": false,
    "scrolled": true
   },
   "outputs": [
    {
     "data": {
      "text/plain": [
       "Index([u'DRG_Definition', u'Service_type', u'Hospital_Type',\n",
       "       u'Hospital_Ownership', u'Emergency_Services',\n",
       "       u'Average_Covered_Charges_median_ST_3_bins',\n",
       "       u'log_Average_Covered_Charges_median_ST_3_bins',\n",
       "       u'DRG_Definition_count', u'Median_Age', u'Percent_over_65',\n",
       "       u'Percent_Native_American', u'Percent_asian',\n",
       "       u'Percent Black or African American', u'Percent_hispanic_or_latino',\n",
       "       u'Percent_Male', u'Percent_Occupied_Housing_Units', u'Percent_white',\n",
       "       u'Rental_vacancy_rate', u'Homeowner_vacancy_rate',\n",
       "       u'Average_family_size', u'Median_income_zip', u'Zip_population',\n",
       "       u'Age Category', u'Income Category', u'Race Category', u'Sex Category',\n",
       "       u'Year', u'ID', u'Name', u'Demographic Group: Number',\n",
       "       u'Demographic Group: MOE', u'Uninsured: Number', u'Uninsured: MOE',\n",
       "       u'Uninsured: %', u'Uninsured: %MOE', u'Insured: Number',\n",
       "       u'Insured: MOE', u'Insured: %', u'Insured: %MOE', u'county_only',\n",
       "       u'State_abbrev', u'State_full'],\n",
       "      dtype='object')"
      ]
     },
     "execution_count": 8,
     "metadata": {},
     "output_type": "execute_result"
    }
   ],
   "source": [
    "df_Model_1.columns"
   ]
  },
  {
   "cell_type": "markdown",
   "metadata": {},
   "source": [
    "First model will be without ratings d/t data loss of specific hospital types if we leave them in "
   ]
  },
  {
   "cell_type": "code",
   "execution_count": 9,
   "metadata": {
    "collapsed": false
   },
   "outputs": [],
   "source": [
    "df_Model_1a = df_Model_1[df_Model_1.Service_type == '0']"
   ]
  },
  {
   "cell_type": "code",
   "execution_count": 10,
   "metadata": {
    "collapsed": false
   },
   "outputs": [
    {
     "data": {
      "text/html": [
       "<div>\n",
       "<table border=\"1\" class=\"dataframe\">\n",
       "  <thead>\n",
       "    <tr style=\"text-align: right;\">\n",
       "      <th></th>\n",
       "      <th>Service_type</th>\n",
       "      <th>Hospital_Type</th>\n",
       "      <th>Hospital_Ownership</th>\n",
       "      <th>Emergency_Services</th>\n",
       "      <th>Average_Covered_Charges_median_ST_3_bins</th>\n",
       "    </tr>\n",
       "  </thead>\n",
       "  <tbody>\n",
       "    <tr>\n",
       "      <th>False</th>\n",
       "      <td>NaN</td>\n",
       "      <td>NaN</td>\n",
       "      <td>NaN</td>\n",
       "      <td>2782.0</td>\n",
       "      <td>76042.0</td>\n",
       "    </tr>\n",
       "    <tr>\n",
       "      <th>True</th>\n",
       "      <td>NaN</td>\n",
       "      <td>NaN</td>\n",
       "      <td>NaN</td>\n",
       "      <td>198548.0</td>\n",
       "      <td>71212.0</td>\n",
       "    </tr>\n",
       "    <tr>\n",
       "      <th>2.0</th>\n",
       "      <td>NaN</td>\n",
       "      <td>NaN</td>\n",
       "      <td>NaN</td>\n",
       "      <td>NaN</td>\n",
       "      <td>55402.0</td>\n",
       "    </tr>\n",
       "    <tr>\n",
       "      <th>0</th>\n",
       "      <td>202656.0</td>\n",
       "      <td>NaN</td>\n",
       "      <td>NaN</td>\n",
       "      <td>NaN</td>\n",
       "      <td>NaN</td>\n",
       "    </tr>\n",
       "    <tr>\n",
       "      <th>Acute Care Hospitals</th>\n",
       "      <td>NaN</td>\n",
       "      <td>201330.0</td>\n",
       "      <td>NaN</td>\n",
       "      <td>NaN</td>\n",
       "      <td>NaN</td>\n",
       "    </tr>\n",
       "    <tr>\n",
       "      <th>Government - Federal</th>\n",
       "      <td>NaN</td>\n",
       "      <td>NaN</td>\n",
       "      <td>444.0</td>\n",
       "      <td>NaN</td>\n",
       "      <td>NaN</td>\n",
       "    </tr>\n",
       "    <tr>\n",
       "      <th>Government - Hospital District or Authority</th>\n",
       "      <td>NaN</td>\n",
       "      <td>NaN</td>\n",
       "      <td>13844.0</td>\n",
       "      <td>NaN</td>\n",
       "      <td>NaN</td>\n",
       "    </tr>\n",
       "    <tr>\n",
       "      <th>Government - Local</th>\n",
       "      <td>NaN</td>\n",
       "      <td>NaN</td>\n",
       "      <td>6730.0</td>\n",
       "      <td>NaN</td>\n",
       "      <td>NaN</td>\n",
       "    </tr>\n",
       "    <tr>\n",
       "      <th>Government - State</th>\n",
       "      <td>NaN</td>\n",
       "      <td>NaN</td>\n",
       "      <td>4430.0</td>\n",
       "      <td>NaN</td>\n",
       "      <td>NaN</td>\n",
       "    </tr>\n",
       "    <tr>\n",
       "      <th>Physician</th>\n",
       "      <td>NaN</td>\n",
       "      <td>NaN</td>\n",
       "      <td>578.0</td>\n",
       "      <td>NaN</td>\n",
       "      <td>NaN</td>\n",
       "    </tr>\n",
       "    <tr>\n",
       "      <th>Proprietary</th>\n",
       "      <td>NaN</td>\n",
       "      <td>NaN</td>\n",
       "      <td>31296.0</td>\n",
       "      <td>NaN</td>\n",
       "      <td>NaN</td>\n",
       "    </tr>\n",
       "    <tr>\n",
       "      <th>Tribal</th>\n",
       "      <td>NaN</td>\n",
       "      <td>NaN</td>\n",
       "      <td>14.0</td>\n",
       "      <td>NaN</td>\n",
       "      <td>NaN</td>\n",
       "    </tr>\n",
       "    <tr>\n",
       "      <th>Voluntary non-profit - Church</th>\n",
       "      <td>NaN</td>\n",
       "      <td>NaN</td>\n",
       "      <td>21854.0</td>\n",
       "      <td>NaN</td>\n",
       "      <td>NaN</td>\n",
       "    </tr>\n",
       "    <tr>\n",
       "      <th>Voluntary non-profit - Other</th>\n",
       "      <td>NaN</td>\n",
       "      <td>NaN</td>\n",
       "      <td>21671.0</td>\n",
       "      <td>NaN</td>\n",
       "      <td>NaN</td>\n",
       "    </tr>\n",
       "    <tr>\n",
       "      <th>Voluntary non-profit - Private</th>\n",
       "      <td>NaN</td>\n",
       "      <td>NaN</td>\n",
       "      <td>100469.0</td>\n",
       "      <td>NaN</td>\n",
       "      <td>NaN</td>\n",
       "    </tr>\n",
       "  </tbody>\n",
       "</table>\n",
       "</div>"
      ],
      "text/plain": [
       "                                             Service_type  Hospital_Type  \\\n",
       "False                                                 NaN            NaN   \n",
       "True                                                  NaN            NaN   \n",
       "2.0                                                   NaN            NaN   \n",
       "0                                                202656.0            NaN   \n",
       "Acute Care Hospitals                                  NaN       201330.0   \n",
       "Government - Federal                                  NaN            NaN   \n",
       "Government - Hospital District or Authority           NaN            NaN   \n",
       "Government - Local                                    NaN            NaN   \n",
       "Government - State                                    NaN            NaN   \n",
       "Physician                                             NaN            NaN   \n",
       "Proprietary                                           NaN            NaN   \n",
       "Tribal                                                NaN            NaN   \n",
       "Voluntary non-profit - Church                         NaN            NaN   \n",
       "Voluntary non-profit - Other                          NaN            NaN   \n",
       "Voluntary non-profit - Private                        NaN            NaN   \n",
       "\n",
       "                                             Hospital_Ownership  \\\n",
       "False                                                       NaN   \n",
       "True                                                        NaN   \n",
       "2.0                                                         NaN   \n",
       "0                                                           NaN   \n",
       "Acute Care Hospitals                                        NaN   \n",
       "Government - Federal                                      444.0   \n",
       "Government - Hospital District or Authority             13844.0   \n",
       "Government - Local                                       6730.0   \n",
       "Government - State                                       4430.0   \n",
       "Physician                                                 578.0   \n",
       "Proprietary                                             31296.0   \n",
       "Tribal                                                     14.0   \n",
       "Voluntary non-profit - Church                           21854.0   \n",
       "Voluntary non-profit - Other                            21671.0   \n",
       "Voluntary non-profit - Private                         100469.0   \n",
       "\n",
       "                                             Emergency_Services  \\\n",
       "False                                                    2782.0   \n",
       "True                                                   198548.0   \n",
       "2.0                                                         NaN   \n",
       "0                                                           NaN   \n",
       "Acute Care Hospitals                                        NaN   \n",
       "Government - Federal                                        NaN   \n",
       "Government - Hospital District or Authority                 NaN   \n",
       "Government - Local                                          NaN   \n",
       "Government - State                                          NaN   \n",
       "Physician                                                   NaN   \n",
       "Proprietary                                                 NaN   \n",
       "Tribal                                                      NaN   \n",
       "Voluntary non-profit - Church                               NaN   \n",
       "Voluntary non-profit - Other                                NaN   \n",
       "Voluntary non-profit - Private                              NaN   \n",
       "\n",
       "                                             Average_Covered_Charges_median_ST_3_bins  \n",
       "False                                                                         76042.0  \n",
       "True                                                                          71212.0  \n",
       "2.0                                                                           55402.0  \n",
       "0                                                                                 NaN  \n",
       "Acute Care Hospitals                                                              NaN  \n",
       "Government - Federal                                                              NaN  \n",
       "Government - Hospital District or Authority                                       NaN  \n",
       "Government - Local                                                                NaN  \n",
       "Government - State                                                                NaN  \n",
       "Physician                                                                         NaN  \n",
       "Proprietary                                                                       NaN  \n",
       "Tribal                                                                            NaN  \n",
       "Voluntary non-profit - Church                                                     NaN  \n",
       "Voluntary non-profit - Other                                                      NaN  \n",
       "Voluntary non-profit - Private                                                    NaN  "
      ]
     },
     "execution_count": 10,
     "metadata": {},
     "output_type": "execute_result"
    }
   ],
   "source": [
    "df_Model_1a[[u'Service_type', u'Hospital_Type',\\\n",
    "       u'Hospital_Ownership', u'Emergency_Services',\\\n",
    "       u'Average_Covered_Charges_median_ST_3_bins']].apply(pd.Series.value_counts)\n",
    " "
   ]
  },
  {
   "cell_type": "code",
   "execution_count": 11,
   "metadata": {
    "collapsed": false
   },
   "outputs": [
    {
     "name": "stderr",
     "output_type": "stream",
     "text": [
      "/anaconda/lib/python2.7/site-packages/ipykernel/__main__.py:1: SettingWithCopyWarning: \n",
      "A value is trying to be set on a copy of a slice from a DataFrame.\n",
      "Try using .loc[row_indexer,col_indexer] = value instead\n",
      "\n",
      "See the caveats in the documentation: http://pandas.pydata.org/pandas-docs/stable/indexing.html#indexing-view-versus-copy\n",
      "  if __name__ == '__main__':\n"
     ]
    }
   ],
   "source": [
    "df_Model_1a['Hospital_Ownership'] = df_Model_1a['Hospital_Ownership'].replace('Tribal','zTribal')\n"
   ]
  },
  {
   "cell_type": "code",
   "execution_count": 12,
   "metadata": {
    "collapsed": false
   },
   "outputs": [
    {
     "data": {
      "text/plain": [
       "DRG_Definition                                   object\n",
       "Service_type                                     object\n",
       "Hospital_Type                                    object\n",
       "Hospital_Ownership                               object\n",
       "Emergency_Services                               object\n",
       "Average_Covered_Charges_median_ST_3_bins        float64\n",
       "log_Average_Covered_Charges_median_ST_3_bins    float64\n",
       "DRG_Definition_count                              int64\n",
       "Median_Age                                      float64\n",
       "Percent_over_65                                 float64\n",
       "Percent_Native_American                         float64\n",
       "Percent_asian                                   float64\n",
       "Percent Black or African American               float64\n",
       "Percent_hispanic_or_latino                      float64\n",
       "Percent_Male                                    float64\n",
       "Percent_Occupied_Housing_Units                  float64\n",
       "Percent_white                                   float64\n",
       "Rental_vacancy_rate                             float64\n",
       "Homeowner_vacancy_rate                          float64\n",
       "Average_family_size                             float64\n",
       "Median_income_zip                               float64\n",
       "Zip_population                                  float64\n",
       "Age Category                                     object\n",
       "Income Category                                  object\n",
       "Race Category                                    object\n",
       "Sex Category                                     object\n",
       "Year                                            float64\n",
       "ID                                              float64\n",
       "Name                                             object\n",
       "Demographic Group: Number                        object\n",
       "Demographic Group: MOE                          float64\n",
       "Uninsured: Number                                object\n",
       "Uninsured: MOE                                   object\n",
       "Uninsured: %                                    float64\n",
       "Uninsured: %MOE                                 float64\n",
       "Insured: Number                                  object\n",
       "Insured: MOE                                     object\n",
       "Insured: %                                      float64\n",
       "Insured: %MOE                                   float64\n",
       "county_only                                      object\n",
       "State_abbrev                                     object\n",
       "State_full                                       object\n",
       "dtype: object"
      ]
     },
     "execution_count": 12,
     "metadata": {},
     "output_type": "execute_result"
    }
   ],
   "source": [
    "df_Model_1a.dtypes"
   ]
  },
  {
   "cell_type": "code",
   "execution_count": 13,
   "metadata": {
    "collapsed": false
   },
   "outputs": [
    {
     "data": {
      "text/plain": [
       "Hospital_Ownership\n",
       "Government - Federal                           0.385135\n",
       "Government - Hospital District or Authority    0.623447\n",
       "Government - Local                             0.624517\n",
       "Government - State                             0.983296\n",
       "Physician                                      0.754325\n",
       "Proprietary                                    1.296747\n",
       "Voluntary non-profit - Church                  0.919145\n",
       "Voluntary non-profit - Other                   0.825989\n",
       "Voluntary non-profit - Private                 0.842140\n",
       "zTribal                                        0.000000\n",
       "Name: Average_Covered_Charges_median_ST_3_bins, dtype: float64"
      ]
     },
     "execution_count": 13,
     "metadata": {},
     "output_type": "execute_result"
    }
   ],
   "source": [
    "df_Model_1a['Average_Covered_Charges_median_ST_3_bins'].groupby(df_Model_1a['Hospital_Ownership']).mean()"
   ]
  },
  {
   "cell_type": "code",
   "execution_count": 14,
   "metadata": {
    "collapsed": false
   },
   "outputs": [],
   "source": [
    "df_Model_1a = df_Model_1a.drop(['Service_type',u'Hospital_Type',\\\n",
    "       u'Age Category', u'Income Category', u'Race Category', u'Sex Category',\\\n",
    "       u'Year', u'ID', u'Name', u'Demographic Group: Number',\\\n",
    "       u'Demographic Group: MOE',u'county_only', u'State_abbrev', u'Emergency_Services',\\\n",
    "        u'Percent_over_65',u'Rental_vacancy_rate', u'Uninsured: Number', \\\n",
    "        u'Uninsured: MOE',u'Uninsured: %MOE', u'Insured: Number', \\\n",
    "        u'Insured: MOE', u'Insured: %', u'Insured: %MOE',u'Homeowner_vacancy_rate'],1)\n"
   ]
  },
  {
   "cell_type": "code",
   "execution_count": 15,
   "metadata": {
    "collapsed": false
   },
   "outputs": [
    {
     "data": {
      "text/plain": [
       "DRG_Definition                                      0\n",
       "Hospital_Ownership                               1326\n",
       "Average_Covered_Charges_median_ST_3_bins            0\n",
       "log_Average_Covered_Charges_median_ST_3_bins        0\n",
       "DRG_Definition_count                                0\n",
       "Median_Age                                      14163\n",
       "Percent_Native_American                         14163\n",
       "Percent_asian                                   14163\n",
       "Percent Black or African American               14163\n",
       "Percent_hispanic_or_latino                      14163\n",
       "Percent_Male                                    14163\n",
       "Percent_Occupied_Housing_Units                  14163\n",
       "Percent_white                                   14163\n",
       "Average_family_size                             14163\n",
       "Median_income_zip                               17807\n",
       "Zip_population                                  17807\n",
       "Uninsured: %                                    14848\n",
       "State_full                                      14848\n",
       "dtype: int64"
      ]
     },
     "execution_count": 15,
     "metadata": {},
     "output_type": "execute_result"
    }
   ],
   "source": [
    "pd.isnull(df_Model_1a).sum()"
   ]
  },
  {
   "cell_type": "code",
   "execution_count": 16,
   "metadata": {
    "collapsed": false
   },
   "outputs": [
    {
     "data": {
      "text/plain": [
       "(202656, 18)"
      ]
     },
     "execution_count": 16,
     "metadata": {},
     "output_type": "execute_result"
    }
   ],
   "source": [
    "df_Model_1a.shape"
   ]
  },
  {
   "cell_type": "code",
   "execution_count": 17,
   "metadata": {
    "collapsed": true
   },
   "outputs": [],
   "source": [
    "df_Model_1a = df_Model_1a.dropna()"
   ]
  },
  {
   "cell_type": "code",
   "execution_count": 18,
   "metadata": {
    "collapsed": false
   },
   "outputs": [
    {
     "data": {
      "text/plain": [
       "(170538, 18)"
      ]
     },
     "execution_count": 18,
     "metadata": {},
     "output_type": "execute_result"
    }
   ],
   "source": [
    "df_Model_1a.shape"
   ]
  },
  {
   "cell_type": "code",
   "execution_count": 19,
   "metadata": {
    "collapsed": false
   },
   "outputs": [],
   "source": [
    "# df_Model_1a_check = df_Model_1a.drop([u'log_Average_Covered_Charges_median_3_bins',\\\n",
    "#        u'DRG_Definition_count', u'Percent_Native_American',\\\n",
    "#        u'Percent_asian', u'Percent Black or African American',\\\n",
    "#        u'Percent_hispanic_or_latino',u'Zip_population', u'State_full'],1)\n",
    "\n",
    "\n",
    "# import seaborn as sns\n",
    "# import matplotlib.pyplot as plt\n",
    "# sns.set(context=\"paper\", font=\"monospace\")\n",
    "\n",
    "# # Load the datset of correlations between cortical brain networks\n",
    "# df = df_Model_1a_check\n",
    "# corrmat = df.corr()\n",
    "\n",
    "# # Set up the matplotlib figure\n",
    "# f, ax = plt.subplots(figsize=(12, 9))\n",
    "\n",
    "# # Draw the heatmap using seaborn\n",
    "# sns.heatmap(corrmat, vmax=.8, square=True)\n",
    "\n",
    "# f.tight_layout()"
   ]
  },
  {
   "cell_type": "code",
   "execution_count": 20,
   "metadata": {
    "collapsed": true
   },
   "outputs": [],
   "source": [
    "# df_Model_1a_plot = df_Model_1a.sample(frac=0.25)\n"
   ]
  },
  {
   "cell_type": "code",
   "execution_count": 21,
   "metadata": {
    "collapsed": false
   },
   "outputs": [],
   "source": [
    "# df_Model_1a_plot = df_Model_1a_plot.drop([\n",
    "#        u'DRG_Definition_count', u'Percent_Native_American',\\\n",
    "#        u'Percent_asian', u'Percent Black or African American',\\\n",
    "#        u'Zip_population', u'State_full', u'Hospital_Ownership',\\\n",
    "#        u'Average_Covered_Charges_median_ST_3_bins'],1)\n"
   ]
  },
  {
   "cell_type": "code",
   "execution_count": 22,
   "metadata": {
    "collapsed": false
   },
   "outputs": [],
   "source": [
    "# df_Model_1a_plot.columns"
   ]
  },
  {
   "cell_type": "code",
   "execution_count": 23,
   "metadata": {
    "collapsed": false
   },
   "outputs": [],
   "source": [
    "#sns.pairplot(df_Model_1a_plot, kind=\"reg\");"
   ]
  },
  {
   "cell_type": "markdown",
   "metadata": {},
   "source": [
    "Prepare train/test set for checking classification algorithms with cross validation:"
   ]
  },
  {
   "cell_type": "code",
   "execution_count": 24,
   "metadata": {
    "collapsed": false
   },
   "outputs": [
    {
     "data": {
      "text/plain": [
       "0.0    64203\n",
       "1.0    59097\n",
       "2.0    47238\n",
       "Name: Average_Covered_Charges_median_ST_3_bins, dtype: int64"
      ]
     },
     "execution_count": 24,
     "metadata": {},
     "output_type": "execute_result"
    }
   ],
   "source": [
    "df_Model_1a.Average_Covered_Charges_median_ST_3_bins.value_counts()"
   ]
  },
  {
   "cell_type": "code",
   "execution_count": 25,
   "metadata": {
    "collapsed": true
   },
   "outputs": [],
   "source": [
    "df_Model_1a = df_Model_1a[df_Model_1a.DRG_Definition_count >= 1500]"
   ]
  },
  {
   "cell_type": "code",
   "execution_count": 26,
   "metadata": {
    "collapsed": false
   },
   "outputs": [],
   "source": [
    "X = df_Model_1a.drop([u'Average_Covered_Charges_median_ST_3_bins', \\\n",
    "       u'log_Average_Covered_Charges_median_ST_3_bins', u'DRG_Definition_count',u'Percent_Native_American',\\\n",
    "       u'Percent_asian', u'Percent Black or African American',\\\n",
    "       u'Percent_hispanic_or_latino',u'Zip_population',u'Average_family_size',u'Percent_white'],1)"
   ]
  },
  {
   "cell_type": "code",
   "execution_count": 27,
   "metadata": {
    "collapsed": false
   },
   "outputs": [
    {
     "data": {
      "text/plain": [
       "0.0    31022\n",
       "1.0    25768\n",
       "2.0    22189\n",
       "Name: Average_Covered_Charges_median_ST_3_bins, dtype: int64"
      ]
     },
     "execution_count": 27,
     "metadata": {},
     "output_type": "execute_result"
    }
   ],
   "source": [
    "df_Model_1a.Average_Covered_Charges_median_ST_3_bins.value_counts()"
   ]
  },
  {
   "cell_type": "code",
   "execution_count": 28,
   "metadata": {
    "collapsed": false
   },
   "outputs": [],
   "source": [
    "#y = df_Model_1a[u'Average_Covered_Charges_median_3_bins']\n",
    "\n",
    "y = df_Model_1a[u'Average_Covered_Charges_median_ST_3_bins']"
   ]
  },
  {
   "cell_type": "code",
   "execution_count": 29,
   "metadata": {
    "collapsed": true
   },
   "outputs": [],
   "source": [
    "X_fewer_var = X     #.drop([u'Percent_Occupied_Housing_Units_y',u'Average_family_size',u'Percent_over_65'],1)"
   ]
  },
  {
   "cell_type": "code",
   "execution_count": 30,
   "metadata": {
    "collapsed": false
   },
   "outputs": [
    {
     "data": {
      "text/plain": [
       "(78979, 8)"
      ]
     },
     "execution_count": 30,
     "metadata": {},
     "output_type": "execute_result"
    }
   ],
   "source": [
    "X_fewer_var.shape"
   ]
  },
  {
   "cell_type": "code",
   "execution_count": 31,
   "metadata": {
    "collapsed": false
   },
   "outputs": [
    {
     "data": {
      "text/plain": [
       "Index([u'DRG_Definition', u'Hospital_Ownership', u'Median_Age',\n",
       "       u'Percent_Male', u'Percent_Occupied_Housing_Units',\n",
       "       u'Median_income_zip', u'Uninsured: %', u'State_full'],\n",
       "      dtype='object')"
      ]
     },
     "execution_count": 31,
     "metadata": {},
     "output_type": "execute_result"
    }
   ],
   "source": [
    "X_fewer_var.columns"
   ]
  },
  {
   "cell_type": "code",
   "execution_count": 32,
   "metadata": {
    "collapsed": true
   },
   "outputs": [],
   "source": [
    "X_fewer_var_names = X_fewer_var.rename(columns={'DRG_Definition': 'Diagnosis', 'Hospital_Ownership': 'Hospital Ownership',\\\n",
    "                                                'Median_Age':'Median Age','Percent_Male':'Percent Male',\\\n",
    "                                               'Percent_Occupied_Housing_Units':'Percent Occupied Housing Units','Median_income_zip':'Median Income',\\\n",
    "                                               'Zip_population':'Population'})\n",
    "\n",
    "\n"
   ]
  },
  {
   "cell_type": "code",
   "execution_count": 33,
   "metadata": {
    "collapsed": false
   },
   "outputs": [
    {
     "data": {
      "text/plain": [
       "0.0    31022\n",
       "1.0    25768\n",
       "2.0    22189\n",
       "Name: Average_Covered_Charges_median_ST_3_bins, dtype: int64"
      ]
     },
     "execution_count": 33,
     "metadata": {},
     "output_type": "execute_result"
    }
   ],
   "source": [
    "y.value_counts()"
   ]
  },
  {
   "cell_type": "code",
   "execution_count": 36,
   "metadata": {
    "collapsed": false
   },
   "outputs": [],
   "source": [
    "from sklearn import preprocessing\n",
    "from sklearn.model_selection import train_test_split\n",
    "X_coded = X_fewer_var_names.apply(preprocessing.LabelEncoder().fit_transform)"
   ]
  },
  {
   "cell_type": "code",
   "execution_count": 37,
   "metadata": {
    "collapsed": false
   },
   "outputs": [],
   "source": [
    "X_train, X_test, y_train, y_test = train_test_split(X_coded, y, test_size=0.3)"
   ]
  },
  {
   "cell_type": "markdown",
   "metadata": {},
   "source": [
    "Import the necessary tools:"
   ]
  },
  {
   "cell_type": "code",
   "execution_count": 38,
   "metadata": {
    "collapsed": true
   },
   "outputs": [],
   "source": [
    "from sklearn.metrics import accuracy_score\n",
    "\n",
    "from sklearn.neighbors import KNeighborsClassifier\n",
    "from sklearn.linear_model import LogisticRegression\n",
    "from sklearn.svm import SVC\n",
    "from sklearn.naive_bayes import GaussianNB\n",
    "from sklearn.tree import DecisionTreeClassifier\n",
    "from sklearn.ensemble import RandomForestClassifier\n",
    "from sklearn.metrics import classification_report\n",
    "\n",
    "import numpy as np\n",
    "np.random.seed(10)\n",
    "\n",
    "import matplotlib.pyplot as plt\n",
    "\n",
    "from sklearn.linear_model import LogisticRegression\n",
    "from sklearn.ensemble import (RandomTreesEmbedding, RandomForestClassifier,\n",
    "                              GradientBoostingClassifier)\n",
    "from sklearn.preprocessing import OneHotEncoder\n",
    "\n",
    "from sklearn.metrics import roc_curve\n",
    "from sklearn.pipeline import make_pipeline\n",
    "\n",
    "from sklearn.model_selection import RandomizedSearchCV\n"
   ]
  },
  {
   "cell_type": "markdown",
   "metadata": {},
   "source": [
    "## KNN:"
   ]
  },
  {
   "cell_type": "code",
   "execution_count": 39,
   "metadata": {
    "collapsed": true
   },
   "outputs": [],
   "source": [
    "param_grid = {'n_neighbors': range(1, 100),\n",
    "              'weights': ['uniform', 'distance']}\n",
    "\n",
    "rand = RandomizedSearchCV(KNeighborsClassifier(), \n",
    "                          param_grid, \n",
    "                          cv=4, \n",
    "                          scoring='accuracy',\n",
    "                          n_iter=50)\n",
    "\n",
    "rand = rand.fit(X_train, y_train)"
   ]
  },
  {
   "cell_type": "markdown",
   "metadata": {},
   "source": [
    "Look at the results from the cross validation:"
   ]
  },
  {
   "cell_type": "code",
   "execution_count": 40,
   "metadata": {
    "collapsed": false
   },
   "outputs": [
    {
     "data": {
      "text/html": [
       "<div>\n",
       "<table border=\"1\" class=\"dataframe\">\n",
       "  <thead>\n",
       "    <tr style=\"text-align: right;\">\n",
       "      <th></th>\n",
       "      <th>mean_fit_time</th>\n",
       "      <th>mean_score_time</th>\n",
       "      <th>mean_test_score</th>\n",
       "      <th>mean_train_score</th>\n",
       "      <th>param_n_neighbors</th>\n",
       "      <th>param_weights</th>\n",
       "      <th>params</th>\n",
       "      <th>rank_test_score</th>\n",
       "      <th>split0_test_score</th>\n",
       "      <th>split0_train_score</th>\n",
       "      <th>split1_test_score</th>\n",
       "      <th>split1_train_score</th>\n",
       "      <th>split2_test_score</th>\n",
       "      <th>split2_train_score</th>\n",
       "      <th>split3_test_score</th>\n",
       "      <th>split3_train_score</th>\n",
       "      <th>std_fit_time</th>\n",
       "      <th>std_score_time</th>\n",
       "      <th>std_test_score</th>\n",
       "      <th>std_train_score</th>\n",
       "    </tr>\n",
       "  </thead>\n",
       "  <tbody>\n",
       "    <tr>\n",
       "      <th>0</th>\n",
       "      <td>0.118945</td>\n",
       "      <td>0.489865</td>\n",
       "      <td>0.723741</td>\n",
       "      <td>0.994013</td>\n",
       "      <td>30</td>\n",
       "      <td>distance</td>\n",
       "      <td>{u'n_neighbors': 30, u'weights': u'distance'}</td>\n",
       "      <td>8</td>\n",
       "      <td>0.720828</td>\n",
       "      <td>0.994163</td>\n",
       "      <td>0.725293</td>\n",
       "      <td>0.994308</td>\n",
       "      <td>0.724819</td>\n",
       "      <td>0.993826</td>\n",
       "      <td>0.724023</td>\n",
       "      <td>0.993754</td>\n",
       "      <td>0.021873</td>\n",
       "      <td>0.053469</td>\n",
       "      <td>0.001742</td>\n",
       "      <td>0.000230</td>\n",
       "    </tr>\n",
       "    <tr>\n",
       "      <th>1</th>\n",
       "      <td>0.114586</td>\n",
       "      <td>0.126153</td>\n",
       "      <td>0.704802</td>\n",
       "      <td>0.994013</td>\n",
       "      <td>3</td>\n",
       "      <td>distance</td>\n",
       "      <td>{u'n_neighbors': 3, u'weights': u'distance'}</td>\n",
       "      <td>25</td>\n",
       "      <td>0.705636</td>\n",
       "      <td>0.994163</td>\n",
       "      <td>0.706917</td>\n",
       "      <td>0.994308</td>\n",
       "      <td>0.702533</td>\n",
       "      <td>0.993826</td>\n",
       "      <td>0.704124</td>\n",
       "      <td>0.993754</td>\n",
       "      <td>0.006679</td>\n",
       "      <td>0.019256</td>\n",
       "      <td>0.001641</td>\n",
       "      <td>0.000230</td>\n",
       "    </tr>\n",
       "    <tr>\n",
       "      <th>2</th>\n",
       "      <td>0.114565</td>\n",
       "      <td>0.254722</td>\n",
       "      <td>0.723958</td>\n",
       "      <td>0.768533</td>\n",
       "      <td>11</td>\n",
       "      <td>uniform</td>\n",
       "      <td>{u'n_neighbors': 11, u'weights': u'uniform'}</td>\n",
       "      <td>4</td>\n",
       "      <td>0.722636</td>\n",
       "      <td>0.768704</td>\n",
       "      <td>0.724714</td>\n",
       "      <td>0.768734</td>\n",
       "      <td>0.725181</td>\n",
       "      <td>0.769131</td>\n",
       "      <td>0.723300</td>\n",
       "      <td>0.767563</td>\n",
       "      <td>0.018749</td>\n",
       "      <td>0.068878</td>\n",
       "      <td>0.001031</td>\n",
       "      <td>0.000585</td>\n",
       "    </tr>\n",
       "    <tr>\n",
       "      <th>3</th>\n",
       "      <td>0.118552</td>\n",
       "      <td>1.043243</td>\n",
       "      <td>0.543493</td>\n",
       "      <td>0.557957</td>\n",
       "      <td>97</td>\n",
       "      <td>uniform</td>\n",
       "      <td>{u'n_neighbors': 97, u'weights': u'uniform'}</td>\n",
       "      <td>49</td>\n",
       "      <td>0.548361</td>\n",
       "      <td>0.558246</td>\n",
       "      <td>0.539358</td>\n",
       "      <td>0.559197</td>\n",
       "      <td>0.544790</td>\n",
       "      <td>0.557241</td>\n",
       "      <td>0.541462</td>\n",
       "      <td>0.557145</td>\n",
       "      <td>0.015246</td>\n",
       "      <td>0.086381</td>\n",
       "      <td>0.003414</td>\n",
       "      <td>0.000836</td>\n",
       "    </tr>\n",
       "    <tr>\n",
       "      <th>4</th>\n",
       "      <td>0.105219</td>\n",
       "      <td>0.420878</td>\n",
       "      <td>0.682644</td>\n",
       "      <td>0.710705</td>\n",
       "      <td>27</td>\n",
       "      <td>uniform</td>\n",
       "      <td>{u'n_neighbors': 27, u'weights': u'uniform'}</td>\n",
       "      <td>29</td>\n",
       "      <td>0.682269</td>\n",
       "      <td>0.710795</td>\n",
       "      <td>0.678339</td>\n",
       "      <td>0.709211</td>\n",
       "      <td>0.686469</td>\n",
       "      <td>0.712505</td>\n",
       "      <td>0.683502</td>\n",
       "      <td>0.710310</td>\n",
       "      <td>0.004472</td>\n",
       "      <td>0.019713</td>\n",
       "      <td>0.002917</td>\n",
       "      <td>0.001187</td>\n",
       "    </tr>\n",
       "  </tbody>\n",
       "</table>\n",
       "</div>"
      ],
      "text/plain": [
       "   mean_fit_time  mean_score_time  mean_test_score  mean_train_score  \\\n",
       "0       0.118945         0.489865         0.723741          0.994013   \n",
       "1       0.114586         0.126153         0.704802          0.994013   \n",
       "2       0.114565         0.254722         0.723958          0.768533   \n",
       "3       0.118552         1.043243         0.543493          0.557957   \n",
       "4       0.105219         0.420878         0.682644          0.710705   \n",
       "\n",
       "  param_n_neighbors param_weights  \\\n",
       "0                30      distance   \n",
       "1                 3      distance   \n",
       "2                11       uniform   \n",
       "3                97       uniform   \n",
       "4                27       uniform   \n",
       "\n",
       "                                          params  rank_test_score  \\\n",
       "0  {u'n_neighbors': 30, u'weights': u'distance'}                8   \n",
       "1   {u'n_neighbors': 3, u'weights': u'distance'}               25   \n",
       "2   {u'n_neighbors': 11, u'weights': u'uniform'}                4   \n",
       "3   {u'n_neighbors': 97, u'weights': u'uniform'}               49   \n",
       "4   {u'n_neighbors': 27, u'weights': u'uniform'}               29   \n",
       "\n",
       "   split0_test_score  split0_train_score  split1_test_score  \\\n",
       "0           0.720828            0.994163           0.725293   \n",
       "1           0.705636            0.994163           0.706917   \n",
       "2           0.722636            0.768704           0.724714   \n",
       "3           0.548361            0.558246           0.539358   \n",
       "4           0.682269            0.710795           0.678339   \n",
       "\n",
       "   split1_train_score  split2_test_score  split2_train_score  \\\n",
       "0            0.994308           0.724819            0.993826   \n",
       "1            0.994308           0.702533            0.993826   \n",
       "2            0.768734           0.725181            0.769131   \n",
       "3            0.559197           0.544790            0.557241   \n",
       "4            0.709211           0.686469            0.712505   \n",
       "\n",
       "   split3_test_score  split3_train_score  std_fit_time  std_score_time  \\\n",
       "0           0.724023            0.993754      0.021873        0.053469   \n",
       "1           0.704124            0.993754      0.006679        0.019256   \n",
       "2           0.723300            0.767563      0.018749        0.068878   \n",
       "3           0.541462            0.557145      0.015246        0.086381   \n",
       "4           0.683502            0.710310      0.004472        0.019713   \n",
       "\n",
       "   std_test_score  std_train_score  \n",
       "0        0.001742         0.000230  \n",
       "1        0.001641         0.000230  \n",
       "2        0.001031         0.000585  \n",
       "3        0.003414         0.000836  \n",
       "4        0.002917         0.001187  "
      ]
     },
     "execution_count": 40,
     "metadata": {},
     "output_type": "execute_result"
    }
   ],
   "source": [
    "cv_results = pd.DataFrame.from_dict(rand.cv_results_)\n",
    "cv_results.head()"
   ]
  },
  {
   "cell_type": "code",
   "execution_count": 41,
   "metadata": {
    "collapsed": false
   },
   "outputs": [
    {
     "name": "stdout",
     "output_type": "stream",
     "text": [
      "KNeighborsClassifier(algorithm='auto', leaf_size=30, metric='minkowski',\n",
      "           metric_params=None, n_jobs=1, n_neighbors=20, p=2,\n",
      "           weights='distance') 0.725621778059\n"
     ]
    }
   ],
   "source": [
    "print(rand.best_estimator_, rand.best_score_)"
   ]
  },
  {
   "cell_type": "code",
   "execution_count": 42,
   "metadata": {
    "collapsed": false
   },
   "outputs": [
    {
     "name": "stdout",
     "output_type": "stream",
     "text": [
      "0.733983286908\n"
     ]
    }
   ],
   "source": [
    "print(accuracy_score(y_test, rand.best_estimator_.predict(X_test)))"
   ]
  },
  {
   "cell_type": "code",
   "execution_count": 43,
   "metadata": {
    "collapsed": false
   },
   "outputs": [],
   "source": [
    "y_true = y_test\n",
    "y_pred = rand.best_estimator_.predict(X_test)"
   ]
  },
  {
   "cell_type": "code",
   "execution_count": 44,
   "metadata": {
    "collapsed": false,
    "scrolled": false
   },
   "outputs": [
    {
     "name": "stdout",
     "output_type": "stream",
     "text": [
      "Confusion matrix, without normalization\n",
      "[[7339 1642  219]\n",
      " [1651 4866 1242]\n",
      " [ 192 1357 5186]]\n",
      "Precision Matrix\n",
      "[[ 0.8   0.18  0.02]\n",
      " [ 0.21  0.62  0.16]\n",
      " [ 0.03  0.2   0.78]]\n"
     ]
    },
    {
     "data": {
      "image/png": "[encoded data removed]",
      "text/plain": [
       "<matplotlib.figure.Figure at 0x13589c4d0>"
      ]
     },
     "metadata": {},
     "output_type": "display_data"
    }
   ],
   "source": [
    "from sklearn.metrics import confusion_matrix\n",
    "class_names = [1,2,3]\n",
    "def plot_confusion_matrix(cm, classes,\n",
    "                          normalize=False,\n",
    "                          title='Confusion matrix',\n",
    "                          cmap=plt.cm.Blues):\n",
    "    \"\"\"\n",
    "    This function prints and plots the confusion matrix.\n",
    "    Normalization can be applied by setting `normalize=True`.\n",
    "    \"\"\"\n",
    "    \n",
    "    \n",
    "\n",
    "    plt.imshow(cm, interpolation='nearest', cmap=cmap)\n",
    "    plt.title(title)\n",
    "    plt.colorbar()\n",
    "    tick_marks = np.arange(len(classes))\n",
    "    plt.xticks(tick_marks, classes, fontsize = 24)\n",
    "    plt.yticks(tick_marks, classes,fontsize = 24)\n",
    "\n",
    "    if normalize:\n",
    "        cm = cm.astype('float') / cm.sum(axis=1)[:, np.newaxis]\n",
    "        print(\"Normalized confusion matrix\")\n",
    "    else:\n",
    "        print('Confusion matrix, without normalization')\n",
    "\n",
    "    print(cm)\n",
    "\n",
    "    thresh = cm.max() / 2.\n",
    "    for i, j in itertools.product(range(cm.shape[0]), range(cm.shape[1])):\n",
    "        plt.text(j, i, cm[i, j],\n",
    "                 size = 'x-large',\n",
    "                 horizontalalignment=\"center\",\n",
    "                 color=\"white\" if cm[i, j] > thresh else \"black\")\n",
    "\n",
    "    plt.tight_layout()\n",
    "    plt.ylabel('True label')\n",
    "    plt.xlabel('Predicted label')\n",
    "    \n",
    "    precision = np.empty([cm.shape[0], cm.shape[1]])\n",
    "    for i, j in itertools.product(range(cm.shape[0]), range(cm.shape[1])):\n",
    "        precision[i,j] = cnf_matrix[i,j]/cm[:,i].sum()\n",
    "    print(\"Precision Matrix\")\n",
    "    print(precision)\n",
    "    \n",
    "# Compute confusion matrix\n",
    "cnf_matrix = confusion_matrix(y_test, y_pred)\n",
    "np.set_printoptions(precision=2)\n",
    "\n",
    "# Plot non-normalized confusion matrix\n",
    "plt.figure()\n",
    "plot_confusion_matrix(cnf_matrix, classes=class_names,\n",
    "                      title='Confusion matrix, without normalization')\n",
    "\n",
    "# # Plot normalized confusion matrix\n",
    "# plt.figure()\n",
    "# plot_confusion_matrix(cnf_matrix, classes=class_names, normalize=True,\n",
    "#                      title='Normalized confusion matrix')\n",
    "\n",
    "plt.show()"
   ]
  },
  {
   "cell_type": "code",
   "execution_count": 45,
   "metadata": {
    "collapsed": false
   },
   "outputs": [],
   "source": [
    "# def Precision_Matrix(cnf_matrix):\n",
    "#     precision = np.empty([cnf_matrix.shape[0], cnf_matrix.shape[1]])\n",
    "#     for i, j in itertools.product(range(cnf_matrix.shape[0]), range(cnf_matrix.shape[1])):\n",
    "#         precision[i,j] = cnf_matrix[i,j]/cnf_matrix[:,i].sum()\n",
    "#     return precision           "
   ]
  },
  {
   "cell_type": "code",
   "execution_count": 46,
   "metadata": {
    "collapsed": false
   },
   "outputs": [],
   "source": [
    "#Precision_Matrix(cnf_matrix)"
   ]
  },
  {
   "cell_type": "markdown",
   "metadata": {},
   "source": [
    "## Random Forest:"
   ]
  },
  {
   "cell_type": "markdown",
   "metadata": {},
   "source": []
  },
  {
   "cell_type": "code",
   "execution_count": 47,
   "metadata": {
    "collapsed": true
   },
   "outputs": [],
   "source": [
    "# #from sklearn import svm, datasets\n",
    "# #uses a 3-fold CV by default if you do not define otherwise\n",
    "# from sklearn.model_selection import GridSearchCV\n",
    "\n",
    "# #parameters = {'kernel':('linear', 'rbf'), 'C':[1, 10]}\n",
    "# #svr = svm.SVC()\n",
    "# #clf = GridSearchCV(svr, parameters)\n",
    "\n",
    "# clf = RandomForestClassifier()\n",
    "\n",
    "# param_grid = {\"max_depth\": [3, None],\n",
    "#               \"max_features\": [3,5,10,13,16],\n",
    "#               \"min_samples_split\": [5,10,15],\n",
    "#               \"min_samples_leaf\": [5,10,15],\n",
    "#               \"bootstrap\": [True],\n",
    "#               \"criterion\": [\"gini\"]}\n",
    "\n",
    "# grid_search = GridSearchCV(clf, param_grid=param_grid)\n",
    "# #start = time()\n",
    "# grid_search.fit(X_coded, y)\n",
    "\n",
    "# report(grid_search.cv_results_)\n",
    "\n",
    "# # clf.fit()\n",
    "# # ...                             \n",
    "# # GridSearchCV(cv=None, error_score=...,\n",
    "# #        estimator=SVC(C=1.0, cache_size=..., class_weight=..., coef0=...,\n",
    "# #                      decision_function_shape=None, degree=..., gamma=...,\n",
    "# #                      kernel='rbf', max_iter=-1, probability=False,\n",
    "# #                      random_state=None, shrinking=True, tol=...,\n",
    "# #                      verbose=False),\n",
    "# #        fit_params={}, iid=..., n_jobs=1,\n",
    "# #        param_grid=..., pre_dispatch=..., refit=..., return_train_score=...,\n",
    "# #        scoring=..., verbose=...)\n",
    "# # sorted(clf.cv_results_.keys())\n",
    "# # ...                             \n",
    "# # ['mean_fit_time', 'mean_score_time', 'mean_test_score',...\n",
    "# #  'mean_train_score', 'param_C', 'param_kernel', 'params',...\n",
    "# #  'rank_test_score', 'split0_test_score',...\n",
    "# #  'split0_train_score', 'split1_test_score', 'split1_train_score',...\n",
    "# #  'split2_test_score', 'split2_train_score',...\n",
    "# #  'std_fit_time', 'std_score_time', 'std_test_score', 'std_train_score'...]"
   ]
  },
  {
   "cell_type": "code",
   "execution_count": 48,
   "metadata": {
    "collapsed": false
   },
   "outputs": [
    {
     "data": {
      "text/plain": [
       "RandomizedSearchCV(cv=None, error_score='raise',\n",
       "          estimator=RandomForestClassifier(bootstrap=True, class_weight=None, criterion='gini',\n",
       "            max_depth=None, max_features='auto', max_leaf_nodes=None,\n",
       "            min_impurity_split=1e-07, min_samples_leaf=1,\n",
       "            min_samples_split=2, min_weight_fraction_leaf=0.0,\n",
       "            n_estimators=10, n_jobs=1, oob_score=False, random_state=None,\n",
       "            verbose=0, warm_start=False),\n",
       "          fit_params={}, iid=True, n_iter=60, n_jobs=1,\n",
       "          param_distributions={'bootstrap': [True, False], 'min_samples_leaf': <scipy.stats._distn_infrastructure.rv_frozen object at 0x135743390>, 'min_samples_split': <scipy.stats._distn_infrastructure.rv_frozen object at 0x135743310>, 'criterion': ['gini', 'entropy'], 'max_features': <scipy.stats._distn_infrastructure.rv_frozen object at 0x135c14e10>, 'max_depth': [10, 5, 3, None]},\n",
       "          pre_dispatch='2*n_jobs', random_state=None, refit=True,\n",
       "          return_train_score=True, scoring=None, verbose=0)"
      ]
     },
     "execution_count": 48,
     "metadata": {},
     "output_type": "execute_result"
    }
   ],
   "source": [
    "from sklearn.model_selection import RandomizedSearchCV\n",
    "from scipy.stats import randint as sp_randint\n",
    "from sklearn.datasets import load_digits\n",
    "from sklearn.ensemble import RandomForestClassifier\n",
    "\n",
    "clf = RandomForestClassifier()\n",
    "\n",
    "# specify parameters and distributions to sample from\n",
    "param_dist = {\"max_depth\": [10,5,3,None],\n",
    "              \"max_features\": sp_randint(1,3,5),\n",
    "              \"min_samples_split\": sp_randint(2,50),\n",
    "              \"min_samples_leaf\": sp_randint(2,50),\n",
    "              \"bootstrap\": [True, False],\n",
    "              \"criterion\": [\"gini\",\"entropy\"]}\n",
    "\n",
    "# run randomized search\n",
    "n_iter_search = 60\n",
    "random_search = RandomizedSearchCV(clf, param_distributions=param_dist,\n",
    "                                   n_iter=n_iter_search)\n",
    "\n",
    "\n",
    "random_search.fit(X_train, y_train)\n"
   ]
  },
  {
   "cell_type": "code",
   "execution_count": 49,
   "metadata": {
    "collapsed": false
   },
   "outputs": [
    {
     "name": "stdout",
     "output_type": "stream",
     "text": [
      "RandomForestClassifier(bootstrap=True, class_weight=None, criterion='gini',\n",
      "            max_depth=None, max_features=7, max_leaf_nodes=None,\n",
      "            min_impurity_split=1e-07, min_samples_leaf=9,\n",
      "            min_samples_split=10, min_weight_fraction_leaf=0.0,\n",
      "            n_estimators=10, n_jobs=1, oob_score=False, random_state=None,\n",
      "            verbose=0, warm_start=False) 0.739965632631 {'bootstrap': True, 'min_samples_leaf': 9, 'min_samples_split': 10, 'criterion': 'gini', 'max_features': 7, 'max_depth': None} 13 3\n"
     ]
    }
   ],
   "source": [
    "print(random_search.best_estimator_,random_search.best_score_, random_search.best_params_ , random_search.best_index_,random_search.n_splits_ )"
   ]
  },
  {
   "cell_type": "code",
   "execution_count": 50,
   "metadata": {
    "collapsed": false
   },
   "outputs": [
    {
     "data": {
      "text/plain": [
       "0.73996563263091253"
      ]
     },
     "execution_count": 50,
     "metadata": {},
     "output_type": "execute_result"
    }
   ],
   "source": [
    "random_search.best_score_"
   ]
  },
  {
   "cell_type": "code",
   "execution_count": 51,
   "metadata": {
    "collapsed": false
   },
   "outputs": [
    {
     "data": {
      "text/html": [
       "<div>\n",
       "<table border=\"1\" class=\"dataframe\">\n",
       "  <thead>\n",
       "    <tr style=\"text-align: right;\">\n",
       "      <th></th>\n",
       "      <th>mean_fit_time</th>\n",
       "      <th>mean_score_time</th>\n",
       "      <th>mean_test_score</th>\n",
       "      <th>mean_train_score</th>\n",
       "      <th>param_bootstrap</th>\n",
       "      <th>param_criterion</th>\n",
       "      <th>param_max_depth</th>\n",
       "      <th>param_max_features</th>\n",
       "      <th>param_min_samples_leaf</th>\n",
       "      <th>param_min_samples_split</th>\n",
       "      <th>...</th>\n",
       "      <th>split0_test_score</th>\n",
       "      <th>split0_train_score</th>\n",
       "      <th>split1_test_score</th>\n",
       "      <th>split1_train_score</th>\n",
       "      <th>split2_test_score</th>\n",
       "      <th>split2_train_score</th>\n",
       "      <th>std_fit_time</th>\n",
       "      <th>std_score_time</th>\n",
       "      <th>std_test_score</th>\n",
       "      <th>std_train_score</th>\n",
       "    </tr>\n",
       "  </thead>\n",
       "  <tbody>\n",
       "    <tr>\n",
       "      <th>17</th>\n",
       "      <td>0.306483</td>\n",
       "      <td>0.024814</td>\n",
       "      <td>0.468138</td>\n",
       "      <td>0.467839</td>\n",
       "      <td>True</td>\n",
       "      <td>gini</td>\n",
       "      <td>3</td>\n",
       "      <td>6</td>\n",
       "      <td>35</td>\n",
       "      <td>24</td>\n",
       "      <td>...</td>\n",
       "      <td>0.460904</td>\n",
       "      <td>0.459410</td>\n",
       "      <td>0.472270</td>\n",
       "      <td>0.472990</td>\n",
       "      <td>0.471239</td>\n",
       "      <td>0.471118</td>\n",
       "      <td>0.003151</td>\n",
       "      <td>0.001310</td>\n",
       "      <td>0.005133</td>\n",
       "      <td>0.006010</td>\n",
       "    </tr>\n",
       "    <tr>\n",
       "      <th>28</th>\n",
       "      <td>0.990885</td>\n",
       "      <td>0.038973</td>\n",
       "      <td>0.632595</td>\n",
       "      <td>0.649136</td>\n",
       "      <td>False</td>\n",
       "      <td>entropy</td>\n",
       "      <td>10</td>\n",
       "      <td>7</td>\n",
       "      <td>17</td>\n",
       "      <td>46</td>\n",
       "      <td>...</td>\n",
       "      <td>0.636605</td>\n",
       "      <td>0.660300</td>\n",
       "      <td>0.634089</td>\n",
       "      <td>0.645658</td>\n",
       "      <td>0.627089</td>\n",
       "      <td>0.641452</td>\n",
       "      <td>0.005397</td>\n",
       "      <td>0.003216</td>\n",
       "      <td>0.004026</td>\n",
       "      <td>0.008078</td>\n",
       "    </tr>\n",
       "    <tr>\n",
       "      <th>56</th>\n",
       "      <td>0.840731</td>\n",
       "      <td>0.058282</td>\n",
       "      <td>0.691074</td>\n",
       "      <td>0.715158</td>\n",
       "      <td>True</td>\n",
       "      <td>entropy</td>\n",
       "      <td>None</td>\n",
       "      <td>6</td>\n",
       "      <td>40</td>\n",
       "      <td>3</td>\n",
       "      <td>...</td>\n",
       "      <td>0.688372</td>\n",
       "      <td>0.718282</td>\n",
       "      <td>0.693293</td>\n",
       "      <td>0.712429</td>\n",
       "      <td>0.691556</td>\n",
       "      <td>0.714762</td>\n",
       "      <td>0.073253</td>\n",
       "      <td>0.011371</td>\n",
       "      <td>0.002038</td>\n",
       "      <td>0.002406</td>\n",
       "    </tr>\n",
       "    <tr>\n",
       "      <th>4</th>\n",
       "      <td>0.322045</td>\n",
       "      <td>0.024746</td>\n",
       "      <td>0.469549</td>\n",
       "      <td>0.470073</td>\n",
       "      <td>True</td>\n",
       "      <td>entropy</td>\n",
       "      <td>3</td>\n",
       "      <td>6</td>\n",
       "      <td>19</td>\n",
       "      <td>8</td>\n",
       "      <td>...</td>\n",
       "      <td>0.466167</td>\n",
       "      <td>0.468608</td>\n",
       "      <td>0.465325</td>\n",
       "      <td>0.462544</td>\n",
       "      <td>0.477154</td>\n",
       "      <td>0.479068</td>\n",
       "      <td>0.012421</td>\n",
       "      <td>0.001355</td>\n",
       "      <td>0.005389</td>\n",
       "      <td>0.006825</td>\n",
       "    </tr>\n",
       "    <tr>\n",
       "      <th>55</th>\n",
       "      <td>0.334881</td>\n",
       "      <td>0.026438</td>\n",
       "      <td>0.471339</td>\n",
       "      <td>0.471565</td>\n",
       "      <td>True</td>\n",
       "      <td>gini</td>\n",
       "      <td>3</td>\n",
       "      <td>6</td>\n",
       "      <td>4</td>\n",
       "      <td>35</td>\n",
       "      <td>...</td>\n",
       "      <td>0.468338</td>\n",
       "      <td>0.468119</td>\n",
       "      <td>0.474550</td>\n",
       "      <td>0.473370</td>\n",
       "      <td>0.471131</td>\n",
       "      <td>0.473207</td>\n",
       "      <td>0.013883</td>\n",
       "      <td>0.001303</td>\n",
       "      <td>0.002540</td>\n",
       "      <td>0.002438</td>\n",
       "    </tr>\n",
       "    <tr>\n",
       "      <th>46</th>\n",
       "      <td>0.789989</td>\n",
       "      <td>0.046545</td>\n",
       "      <td>0.658732</td>\n",
       "      <td>0.679135</td>\n",
       "      <td>True</td>\n",
       "      <td>gini</td>\n",
       "      <td>10</td>\n",
       "      <td>6</td>\n",
       "      <td>10</td>\n",
       "      <td>18</td>\n",
       "      <td>...</td>\n",
       "      <td>0.659504</td>\n",
       "      <td>0.682955</td>\n",
       "      <td>0.659051</td>\n",
       "      <td>0.674146</td>\n",
       "      <td>0.657641</td>\n",
       "      <td>0.680305</td>\n",
       "      <td>0.146332</td>\n",
       "      <td>0.013144</td>\n",
       "      <td>0.000794</td>\n",
       "      <td>0.003690</td>\n",
       "    </tr>\n",
       "    <tr>\n",
       "      <th>13</th>\n",
       "      <td>0.919170</td>\n",
       "      <td>0.048593</td>\n",
       "      <td>0.739966</td>\n",
       "      <td>0.788903</td>\n",
       "      <td>True</td>\n",
       "      <td>gini</td>\n",
       "      <td>None</td>\n",
       "      <td>7</td>\n",
       "      <td>9</td>\n",
       "      <td>10</td>\n",
       "      <td>...</td>\n",
       "      <td>0.735688</td>\n",
       "      <td>0.790509</td>\n",
       "      <td>0.744139</td>\n",
       "      <td>0.786255</td>\n",
       "      <td>0.740069</td>\n",
       "      <td>0.789945</td>\n",
       "      <td>0.019555</td>\n",
       "      <td>0.001636</td>\n",
       "      <td>0.003451</td>\n",
       "      <td>0.001887</td>\n",
       "    </tr>\n",
       "    <tr>\n",
       "      <th>14</th>\n",
       "      <td>0.747908</td>\n",
       "      <td>0.039666</td>\n",
       "      <td>0.690911</td>\n",
       "      <td>0.711730</td>\n",
       "      <td>True</td>\n",
       "      <td>gini</td>\n",
       "      <td>None</td>\n",
       "      <td>7</td>\n",
       "      <td>43</td>\n",
       "      <td>9</td>\n",
       "      <td>...</td>\n",
       "      <td>0.686147</td>\n",
       "      <td>0.710820</td>\n",
       "      <td>0.698991</td>\n",
       "      <td>0.713650</td>\n",
       "      <td>0.687595</td>\n",
       "      <td>0.710720</td>\n",
       "      <td>0.018159</td>\n",
       "      <td>0.000709</td>\n",
       "      <td>0.005744</td>\n",
       "      <td>0.001358</td>\n",
       "    </tr>\n",
       "    <tr>\n",
       "      <th>32</th>\n",
       "      <td>0.500453</td>\n",
       "      <td>0.031237</td>\n",
       "      <td>0.507823</td>\n",
       "      <td>0.510365</td>\n",
       "      <td>True</td>\n",
       "      <td>gini</td>\n",
       "      <td>5</td>\n",
       "      <td>6</td>\n",
       "      <td>47</td>\n",
       "      <td>49</td>\n",
       "      <td>...</td>\n",
       "      <td>0.515492</td>\n",
       "      <td>0.515601</td>\n",
       "      <td>0.497232</td>\n",
       "      <td>0.498874</td>\n",
       "      <td>0.510745</td>\n",
       "      <td>0.516618</td>\n",
       "      <td>0.032889</td>\n",
       "      <td>0.002263</td>\n",
       "      <td>0.007735</td>\n",
       "      <td>0.008136</td>\n",
       "    </tr>\n",
       "    <tr>\n",
       "      <th>33</th>\n",
       "      <td>0.752188</td>\n",
       "      <td>0.036812</td>\n",
       "      <td>0.642471</td>\n",
       "      <td>0.659419</td>\n",
       "      <td>True</td>\n",
       "      <td>entropy</td>\n",
       "      <td>10</td>\n",
       "      <td>7</td>\n",
       "      <td>27</td>\n",
       "      <td>16</td>\n",
       "      <td>...</td>\n",
       "      <td>0.645396</td>\n",
       "      <td>0.667137</td>\n",
       "      <td>0.649121</td>\n",
       "      <td>0.662561</td>\n",
       "      <td>0.632896</td>\n",
       "      <td>0.648561</td>\n",
       "      <td>0.009434</td>\n",
       "      <td>0.000974</td>\n",
       "      <td>0.006939</td>\n",
       "      <td>0.007902</td>\n",
       "    </tr>\n",
       "  </tbody>\n",
       "</table>\n",
       "<p>10 rows × 22 columns</p>\n",
       "</div>"
      ],
      "text/plain": [
       "    mean_fit_time  mean_score_time  mean_test_score  mean_train_score  \\\n",
       "17       0.306483         0.024814         0.468138          0.467839   \n",
       "28       0.990885         0.038973         0.632595          0.649136   \n",
       "56       0.840731         0.058282         0.691074          0.715158   \n",
       "4        0.322045         0.024746         0.469549          0.470073   \n",
       "55       0.334881         0.026438         0.471339          0.471565   \n",
       "46       0.789989         0.046545         0.658732          0.679135   \n",
       "13       0.919170         0.048593         0.739966          0.788903   \n",
       "14       0.747908         0.039666         0.690911          0.711730   \n",
       "32       0.500453         0.031237         0.507823          0.510365   \n",
       "33       0.752188         0.036812         0.642471          0.659419   \n",
       "\n",
       "   param_bootstrap param_criterion param_max_depth param_max_features  \\\n",
       "17            True            gini               3                  6   \n",
       "28           False         entropy              10                  7   \n",
       "56            True         entropy            None                  6   \n",
       "4             True         entropy               3                  6   \n",
       "55            True            gini               3                  6   \n",
       "46            True            gini              10                  6   \n",
       "13            True            gini            None                  7   \n",
       "14            True            gini            None                  7   \n",
       "32            True            gini               5                  6   \n",
       "33            True         entropy              10                  7   \n",
       "\n",
       "   param_min_samples_leaf param_min_samples_split       ...         \\\n",
       "17                     35                      24       ...          \n",
       "28                     17                      46       ...          \n",
       "56                     40                       3       ...          \n",
       "4                      19                       8       ...          \n",
       "55                      4                      35       ...          \n",
       "46                     10                      18       ...          \n",
       "13                      9                      10       ...          \n",
       "14                     43                       9       ...          \n",
       "32                     47                      49       ...          \n",
       "33                     27                      16       ...          \n",
       "\n",
       "   split0_test_score  split0_train_score  split1_test_score  \\\n",
       "17          0.460904            0.459410           0.472270   \n",
       "28          0.636605            0.660300           0.634089   \n",
       "56          0.688372            0.718282           0.693293   \n",
       "4           0.466167            0.468608           0.465325   \n",
       "55          0.468338            0.468119           0.474550   \n",
       "46          0.659504            0.682955           0.659051   \n",
       "13          0.735688            0.790509           0.744139   \n",
       "14          0.686147            0.710820           0.698991   \n",
       "32          0.515492            0.515601           0.497232   \n",
       "33          0.645396            0.667137           0.649121   \n",
       "\n",
       "    split1_train_score  split2_test_score  split2_train_score  std_fit_time  \\\n",
       "17            0.472990           0.471239            0.471118      0.003151   \n",
       "28            0.645658           0.627089            0.641452      0.005397   \n",
       "56            0.712429           0.691556            0.714762      0.073253   \n",
       "4             0.462544           0.477154            0.479068      0.012421   \n",
       "55            0.473370           0.471131            0.473207      0.013883   \n",
       "46            0.674146           0.657641            0.680305      0.146332   \n",
       "13            0.786255           0.740069            0.789945      0.019555   \n",
       "14            0.713650           0.687595            0.710720      0.018159   \n",
       "32            0.498874           0.510745            0.516618      0.032889   \n",
       "33            0.662561           0.632896            0.648561      0.009434   \n",
       "\n",
       "    std_score_time  std_test_score  std_train_score  \n",
       "17        0.001310        0.005133         0.006010  \n",
       "28        0.003216        0.004026         0.008078  \n",
       "56        0.011371        0.002038         0.002406  \n",
       "4         0.001355        0.005389         0.006825  \n",
       "55        0.001303        0.002540         0.002438  \n",
       "46        0.013144        0.000794         0.003690  \n",
       "13        0.001636        0.003451         0.001887  \n",
       "14        0.000709        0.005744         0.001358  \n",
       "32        0.002263        0.007735         0.008136  \n",
       "33        0.000974        0.006939         0.007902  \n",
       "\n",
       "[10 rows x 22 columns]"
      ]
     },
     "execution_count": 51,
     "metadata": {},
     "output_type": "execute_result"
    }
   ],
   "source": [
    "cv_results = pd.DataFrame.from_dict(random_search.cv_results_)\n",
    "cv_results.sample(10)"
   ]
  },
  {
   "cell_type": "code",
   "execution_count": 52,
   "metadata": {
    "collapsed": true
   },
   "outputs": [],
   "source": [
    "y_true = y_test\n",
    "y_pred = random_search.best_estimator_.predict(X_test)"
   ]
  },
  {
   "cell_type": "code",
   "execution_count": 53,
   "metadata": {
    "collapsed": false
   },
   "outputs": [
    {
     "name": "stdout",
     "output_type": "stream",
     "text": [
      "Confusion matrix, without normalization\n",
      "[[7497 1548  155]\n",
      " [1655 4945 1159]\n",
      " [ 121 1377 5237]]\n",
      "Precision Matrix\n",
      "[[ 0.81  0.17  0.02]\n",
      " [ 0.21  0.63  0.15]\n",
      " [ 0.02  0.21  0.8 ]]\n"
     ]
    },
    {
     "data": {
      "image/png": "[encoded data removed]",
      "text/plain": [
       "<matplotlib.figure.Figure at 0x12d7a2710>"
      ]
     },
     "metadata": {},
     "output_type": "display_data"
    }
   ],
   "source": [
    "class_names = [1,2,3]\n",
    "def plot_confusion_matrix(cm, classes,\n",
    "                          normalize=False,\n",
    "                          title='Confusion matrix',\n",
    "                          cmap=plt.cm.Blues):\n",
    "    \"\"\"\n",
    "    This function prints and plots the confusion matrix.\n",
    "    Normalization can be applied by setting `normalize=True`.\n",
    "    \"\"\"\n",
    "    \n",
    "    \n",
    "\n",
    "    plt.imshow(cm, interpolation='nearest', cmap=cmap)\n",
    "    plt.title(title)\n",
    "    plt.colorbar()\n",
    "    tick_marks = np.arange(len(classes))\n",
    "    plt.xticks(tick_marks, classes, fontsize = 24)\n",
    "    plt.yticks(tick_marks, classes,fontsize = 24)\n",
    "\n",
    "    if normalize:\n",
    "        cm = cm.astype('float') / cm.sum(axis=1)[:, np.newaxis]\n",
    "        print(\"Normalized confusion matrix\")\n",
    "    else:\n",
    "        print('Confusion matrix, without normalization')\n",
    "\n",
    "    print(cm)\n",
    "\n",
    "    thresh = cm.max() / 2.\n",
    "    for i, j in itertools.product(range(cm.shape[0]), range(cm.shape[1])):\n",
    "        plt.text(j, i, cm[i, j],\n",
    "                 size = 'x-large',\n",
    "                 horizontalalignment=\"center\",\n",
    "                 color=\"white\" if cm[i, j] > thresh else \"black\")\n",
    "\n",
    "    plt.tight_layout()\n",
    "    plt.ylabel('True label')\n",
    "    plt.xlabel('Predicted label')\n",
    "    \n",
    "    precision = np.empty([cm.shape[0], cm.shape[1]])\n",
    "    for i, j in itertools.product(range(cm.shape[0]), range(cm.shape[1])):\n",
    "        precision[i,j] = cnf_matrix[i,j]/cm[:,i].sum()\n",
    "    print(\"Precision Matrix\")\n",
    "    print(precision)\n",
    "    \n",
    "# Compute confusion matrix\n",
    "cnf_matrix = confusion_matrix(y_test, y_pred)\n",
    "np.set_printoptions(precision=2)\n",
    "\n",
    "# Plot non-normalized confusion matrix\n",
    "plt.figure()\n",
    "plot_confusion_matrix(cnf_matrix, classes=class_names,\n",
    "                      title='Confusion matrix, without normalization')\n",
    "\n",
    "# # Plot normalized confusion matrix\n",
    "# plt.figure()\n",
    "# plot_confusion_matrix(cnf_matrix, classes=class_names, normalize=True,\n",
    "#                      title='Normalized confusion matrix')\n",
    "\n",
    "plt.show()"
   ]
  },
  {
   "cell_type": "code",
   "execution_count": 54,
   "metadata": {
    "collapsed": false
   },
   "outputs": [
    {
     "name": "stdout",
     "output_type": "stream",
     "text": [
      "8\n",
      "8\n",
      "('Diagnosis', 'Percent Male', 'State_full', 'Hospital Ownership', 'Percent Occupied Housing Units', 'Median Age', 'Uninsured: %', 'Median Income')\n"
     ]
    },
    {
     "data": {
      "image/png": "[encoded data removed]",
      "text/plain": [
       "<matplotlib.figure.Figure at 0x135f3b750>"
      ]
     },
     "metadata": {},
     "output_type": "display_data"
    }
   ],
   "source": [
    "importances = random_search.best_estimator_.feature_importances_\n",
    "feature_importance = importances\n",
    "\n",
    "sns.set(context=\"paper\", font='sans-serif')\n",
    "\n",
    "feature_importance = importances\n",
    "feature_importance_list = list()\n",
    "features_list = list()\n",
    "for feature in feature_importance:\n",
    "    feature_importance_list.append(feature)\n",
    "for column in X_coded.columns:\n",
    "    features_list.append(column)\n",
    "\n",
    "print(len(feature_importance_list))\n",
    "print(len(features_list))\n",
    "\n",
    "zipped = zip(features_list,feature_importance_list)\n",
    "zipped.sort(key = lambda t: t[1])\n",
    "zipped\n",
    "\n",
    "features = zip(*zipped)[0]\n",
    "importance = zip(*zipped)[1]\n",
    "x_pos = np.arange(len(zipped)) \n",
    "\n",
    "print(features)\n",
    "\n",
    "plt.figure(figsize=(10,10))\n",
    "plt.bar(x_pos, importance ,align='center')\n",
    "plt.yticks(fontsize = 24) \n",
    "plt.xticks(x_pos, features, rotation = 90, fontsize = 24) \n",
    "plt.ylabel('Feature Importance', fontsize = 26)\n",
    "\n",
    "plt.show()"
   ]
  },
  {
   "cell_type": "markdown",
   "metadata": {
    "collapsed": true
   },
   "source": [
    "## Logistic regression:\n"
   ]
  },
  {
   "cell_type": "markdown",
   "metadata": {},
   "source": [
    "LogisticRegressionCV"
   ]
  },
  {
   "cell_type": "code",
   "execution_count": 55,
   "metadata": {
    "collapsed": false
   },
   "outputs": [
    {
     "name": "stderr",
     "output_type": "stream",
     "text": [
      "/anaconda/lib/python2.7/site-packages/sklearn/linear_model/sag.py:286: ConvergenceWarning: The max_iter was reached which means the coef_ did not converge\n",
      "  \"the coef_ did not converge\", ConvergenceWarning)\n",
      "/anaconda/lib/python2.7/site-packages/sklearn/metrics/classification.py:1113: UndefinedMetricWarning: F-score is ill-defined and being set to 0.0 due to no predicted samples.\n",
      "  'precision', 'predicted', average, warn_for)\n"
     ]
    },
    {
     "data": {
      "text/plain": [
       "LogisticRegressionCV(Cs=[1e-06, 1e-05, 0.0001, 0.001, 0.01, 0.1, 1, 100, 1000, 10000, 100000],\n",
       "           class_weight=None, cv=3, dual=False, fit_intercept=True,\n",
       "           intercept_scaling=1.0, max_iter=100, multi_class='ovr',\n",
       "           n_jobs=1, penalty='l2', random_state=1, refit=True,\n",
       "           scoring='f1', solver='sag', tol=0.0001, verbose=0)"
      ]
     },
     "execution_count": 55,
     "metadata": {},
     "output_type": "execute_result"
    }
   ],
   "source": [
    "from sklearn.model_selection import GridSearchCV\n",
    "from sklearn.linear_model import LogisticRegressionCV\n",
    "#logregcv = LogisticRegressionCV(Cs=[0.0001, 0.001, 0.01, 0.1, 1, 100, 1000, 10000, 100000], cv=3, solver='sag'  , scoring=precision_score, random_state=1)\n",
    "logregcv = LogisticRegressionCV(Cs=[0.000001,0.00001, 0.0001, 0.001, 0.01, 0.1, 1, 100, 1000, 10000, 100000],\\\n",
    "                                cv=3, \\\n",
    "                                solver='sag', \\\n",
    "                                scoring='f1',\\\n",
    "                                random_state=1)\n",
    "\n",
    "\n",
    "logregcv.fit(X_train,y_train)"
   ]
  },
  {
   "cell_type": "code",
   "execution_count": 56,
   "metadata": {
    "collapsed": false
   },
   "outputs": [
    {
     "name": "stdout",
     "output_type": "stream",
     "text": [
      "[ 0.  1.  2.]\n",
      "[  1.00e+05   1.00e-06   1.00e-01]\n"
     ]
    }
   ],
   "source": [
    "print(logregcv.classes_)\n",
    "print(logregcv.C_)\n"
   ]
  },
  {
   "cell_type": "code",
   "execution_count": 57,
   "metadata": {
    "collapsed": false
   },
   "outputs": [
    {
     "name": "stdout",
     "output_type": "stream",
     "text": [
      "train_score=0.433\n",
      "test_score =0.423\n",
      "\n"
     ]
    }
   ],
   "source": [
    "acc_train_cv = logregcv.score(X_train, y_train)\n",
    "acc_test_cv = logregcv.score(X_test, y_test)\n",
    "print(\"train_score=%.3f\\ntest_score =%.3f\\n\" % (acc_train_cv, acc_test_cv))"
   ]
  },
  {
   "cell_type": "code",
   "execution_count": 58,
   "metadata": {
    "collapsed": false
   },
   "outputs": [],
   "source": [
    "y_true = y_test\n",
    "y_pred = logregcv.predict(X_test)"
   ]
  },
  {
   "cell_type": "code",
   "execution_count": 59,
   "metadata": {
    "collapsed": false
   },
   "outputs": [
    {
     "name": "stdout",
     "output_type": "stream",
     "text": [
      "Confusion matrix, without normalization\n",
      "[[6533 1571 1096]\n",
      " [4473 1969 1317]\n",
      " [3342 1863 1530]]\n",
      "Precision Matrix\n",
      "[[ 0.46  0.11  0.08]\n",
      " [ 0.83  0.36  0.24]\n",
      " [ 0.85  0.47  0.39]]\n"
     ]
    },
    {
     "data": {
      "image/png": "[encoded data removed]",
      "text/plain": [
       "<matplotlib.figure.Figure at 0x1358d6210>"
      ]
     },
     "metadata": {},
     "output_type": "display_data"
    }
   ],
   "source": [
    "class_names = [1,2,3]\n",
    "def plot_confusion_matrix(cm, classes,\n",
    "                          normalize=False,\n",
    "                          title='Confusion matrix',\n",
    "                          cmap=plt.cm.Blues):\n",
    "    \"\"\"\n",
    "    This function prints and plots the confusion matrix.\n",
    "    Normalization can be applied by setting `normalize=True`.\n",
    "    \"\"\"\n",
    "    \n",
    "    \n",
    "\n",
    "    plt.imshow(cm, interpolation='nearest', cmap=cmap)\n",
    "    plt.title(title)\n",
    "    plt.colorbar()\n",
    "    tick_marks = np.arange(len(classes))\n",
    "    plt.xticks(tick_marks, classes, fontsize = 24)\n",
    "    plt.yticks(tick_marks, classes,fontsize = 24)\n",
    "\n",
    "    if normalize:\n",
    "        cm = cm.astype('float') / cm.sum(axis=1)[:, np.newaxis]\n",
    "        print(\"Normalized confusion matrix\")\n",
    "    else:\n",
    "        print('Confusion matrix, without normalization')\n",
    "\n",
    "    print(cm)\n",
    "\n",
    "    thresh = cm.max() / 2.\n",
    "    for i, j in itertools.product(range(cm.shape[0]), range(cm.shape[1])):\n",
    "        plt.text(j, i, cm[i, j],\n",
    "                 size = 'x-large',\n",
    "                 horizontalalignment=\"center\",\n",
    "                 color=\"white\" if cm[i, j] > thresh else \"black\")\n",
    "\n",
    "    plt.tight_layout()\n",
    "    plt.ylabel('True label')\n",
    "    plt.xlabel('Predicted label')\n",
    "    \n",
    "    precision = np.empty([cm.shape[0], cm.shape[1]])\n",
    "    for i, j in itertools.product(range(cm.shape[0]), range(cm.shape[1])):\n",
    "        precision[i,j] = cnf_matrix[i,j]/cm[:,i].sum()\n",
    "    print(\"Precision Matrix\")\n",
    "    print(precision)\n",
    "    \n",
    "# Compute confusion matrix\n",
    "cnf_matrix = confusion_matrix(y_test, y_pred)\n",
    "np.set_printoptions(precision=2)\n",
    "\n",
    "# Plot non-normalized confusion matrix\n",
    "plt.figure()\n",
    "plot_confusion_matrix(cnf_matrix, classes=class_names,\n",
    "                      title='Confusion matrix, without normalization')\n",
    "\n",
    "# # Plot normalized confusion matrix\n",
    "# plt.figure()\n",
    "# plot_confusion_matrix(cnf_matrix, classes=class_names, normalize=True,\n",
    "#                      title='Normalized confusion matrix')\n",
    "\n",
    "plt.show()"
   ]
  },
  {
   "cell_type": "code",
   "execution_count": 60,
   "metadata": {
    "collapsed": true
   },
   "outputs": [],
   "source": [
    "y_true = y_test\n",
    "y_pred = logregcv.predict(X_test)"
   ]
  },
  {
   "cell_type": "code",
   "execution_count": 61,
   "metadata": {
    "collapsed": false
   },
   "outputs": [],
   "source": [
    "\n",
    "# from sklearn import linear_model, datasets, cross_validation, metrics\n",
    "\n",
    "# #print(\"Accuracy: %2f\" % metrics.accuracy_score(y_true, y_pred))\n",
    "# #print(\"Precision: %2f\" % metrics.precision_score(y_true, y_pred, average=\"macro\"))\n",
    "# #print(\"F1: %2f\" % metrics.f1_score(y_true, y_pred, average=\"macro\"))\n",
    " \n",
    "# for label in np.arange(3):\n",
    "#     false_positive_rate, recall, thresholds = metrics.roc_curve(y_true, y_pred, pos_label=label)\n",
    "#     roc_auc = metrics.auc(false_positive_rate, recall)\n",
    "#     plt.plot(false_positive_rate, recall, label='AUC(%d) = %0.2f' % (label, roc_auc))\n",
    "\n",
    "# plt.title('Receiver Operating Characteristic')\n",
    "# plt.legend(loc='lower right')\n",
    "# plt.plot([0, 1], [0, 1], 'k--')\n",
    "# plt.xlim([0.0, 1.0])\n",
    "# plt.ylim([0.0, 1.0])\n",
    "# plt.ylabel('Recall')\n",
    "# plt.xlabel('Fall-out')\n",
    "# plt.show()\n"
   ]
  },
  {
   "cell_type": "markdown",
   "metadata": {},
   "source": [
    "Gridsearch"
   ]
  },
  {
   "cell_type": "code",
   "execution_count": 62,
   "metadata": {
    "collapsed": true
   },
   "outputs": [],
   "source": [
    "from sklearn.model_selection import GridSearchCV\n",
    "from sklearn.linear_model import LogisticRegressionCV\n",
    "param_grid = {'C': [0.001, 0.01, 0.1, 1, 10, 100, 1000] }\n",
    "logregGS= GridSearchCV(LogisticRegression(penalty='l2'), param_grid)\n",
    "GridSearchCV(cv=None,\n",
    "       estimator=LogisticRegression(C=1.0, intercept_scaling=1, dual=False, fit_intercept=True,\n",
    "          penalty='l2', tol=0.0001),\n",
    "       param_grid={'C': [0.001, 0.01, 0.1, 1, 10, 100, 1000]})\n",
    "\n",
    "lr = logregGS.fit(X_train, y_train)\n",
    "train_acc=lr.score(X_train, y_train)\n",
    "test_acc=lr.score(X_test, y_test)"
   ]
  },
  {
   "cell_type": "code",
   "execution_count": 63,
   "metadata": {
    "collapsed": false
   },
   "outputs": [
    {
     "name": "stdout",
     "output_type": "stream",
     "text": [
      "Training Data Accuracy: 0.44\n",
      "Test Data Accuracy:     0.43\n"
     ]
    }
   ],
   "source": [
    "print(\"Training Data Accuracy: %0.2f\" %(train_acc))\n",
    "print(\"Test Data Accuracy:     %0.2f\" %(test_acc))"
   ]
  },
  {
   "cell_type": "markdown",
   "metadata": {},
   "source": [
    "## SVC:"
   ]
  },
  {
   "cell_type": "code",
   "execution_count": 391,
   "metadata": {
    "collapsed": false
   },
   "outputs": [
    {
     "ename": "NameError",
     "evalue": "name 'plot_data' is not defined",
     "output_type": "error",
     "traceback": [
      "\u001b[0;31m---------------------------------------------------------------------------\u001b[0m",
      "\u001b[0;31mNameError\u001b[0m                                 Traceback (most recent call last)",
      "\u001b[0;32m<ipython-input-391-689ada52b519>\u001b[0m in \u001b[0;36m<module>\u001b[0;34m()\u001b[0m\n\u001b[1;32m     10\u001b[0m \u001b[0msvm\u001b[0m\u001b[0;34m.\u001b[0m\u001b[0mfit\u001b[0m\u001b[0;34m(\u001b[0m\u001b[0mX_train\u001b[0m\u001b[0;34m,\u001b[0m \u001b[0my_train\u001b[0m\u001b[0;34m)\u001b[0m\u001b[0;34m\u001b[0m\u001b[0m\n\u001b[1;32m     11\u001b[0m \u001b[0;34m\u001b[0m\u001b[0m\n\u001b[0;32m---> 12\u001b[0;31m \u001b[0mplot_data\u001b[0m\u001b[0;34m(\u001b[0m\u001b[0mX_train\u001b[0m\u001b[0;34m,\u001b[0m \u001b[0my_train\u001b[0m\u001b[0;34m,\u001b[0m \u001b[0msvm\u001b[0m\u001b[0;34m,\u001b[0m \u001b[0;34m'SVC with Kernel: Non-Linearly Separable Data'\u001b[0m\u001b[0;34m)\u001b[0m\u001b[0;34m\u001b[0m\u001b[0m\n\u001b[0m\u001b[1;32m     13\u001b[0m \u001b[0;34m\u001b[0m\u001b[0m\n\u001b[1;32m     14\u001b[0m \u001b[0;31m# The accuracy\u001b[0m\u001b[0;34m\u001b[0m\u001b[0;34m\u001b[0m\u001b[0m\n",
      "\u001b[0;31mNameError\u001b[0m: name 'plot_data' is not defined"
     ]
    }
   ],
   "source": [
    "from sklearn.svm import SVC\n",
    "from sklearn.model_selection import GridSearchCV\n",
    "\n",
    "param_grid = {'C': [1.0, 10., 100.],\n",
    "              'degree':[2,3,4],\n",
    "              'kernel':['rbf'],\n",
    "              'gamma':[3,4]}\n",
    "\n",
    "svm = GridSearchCV(SVC(), param_grid=param_grid)\n",
    "svm.fit(X_train, y_train)\n",
    "\n",
    "#plot_data(X_train, y_train, svm, 'SVC with Kernel: Non-Linearly Separable Data')\n",
    "\n",
    "# The accuracy\n",
    "y_pred = svm.predict(X_test)\n",
    "print(accuracy_score(y_test, y_pred))"
   ]
  },
  {
   "cell_type": "code",
   "execution_count": 392,
   "metadata": {
    "collapsed": false
   },
   "outputs": [
    {
     "name": "stdout",
     "output_type": "stream",
     "text": [
      "0.61340423736\n"
     ]
    }
   ],
   "source": [
    "y_pred = svm.predict(X_test)\n",
    "print(accuracy_score(y_test, y_pred))"
   ]
  },
  {
   "cell_type": "code",
   "execution_count": 395,
   "metadata": {
    "collapsed": false
   },
   "outputs": [
    {
     "data": {
      "text/html": [
       "<div>\n",
       "<table border=\"1\" class=\"dataframe\">\n",
       "  <thead>\n",
       "    <tr style=\"text-align: right;\">\n",
       "      <th></th>\n",
       "      <th>mean_fit_time</th>\n",
       "      <th>mean_score_time</th>\n",
       "      <th>mean_test_score</th>\n",
       "      <th>mean_train_score</th>\n",
       "      <th>param_C</th>\n",
       "      <th>param_degree</th>\n",
       "      <th>param_gamma</th>\n",
       "      <th>param_kernel</th>\n",
       "      <th>params</th>\n",
       "      <th>rank_test_score</th>\n",
       "      <th>split0_test_score</th>\n",
       "      <th>split0_train_score</th>\n",
       "      <th>split1_test_score</th>\n",
       "      <th>split1_train_score</th>\n",
       "      <th>split2_test_score</th>\n",
       "      <th>split2_train_score</th>\n",
       "      <th>std_fit_time</th>\n",
       "      <th>std_score_time</th>\n",
       "      <th>std_test_score</th>\n",
       "      <th>std_train_score</th>\n",
       "    </tr>\n",
       "  </thead>\n",
       "  <tbody>\n",
       "    <tr>\n",
       "      <th>14</th>\n",
       "      <td>337.082707</td>\n",
       "      <td>15.215601</td>\n",
       "      <td>0.540327</td>\n",
       "      <td>0.995686</td>\n",
       "      <td>100</td>\n",
       "      <td>3</td>\n",
       "      <td>3</td>\n",
       "      <td>rbf</td>\n",
       "      <td>{u'kernel': u'rbf', u'C': 100.0, u'gamma': 3, ...</td>\n",
       "      <td>1</td>\n",
       "      <td>0.540941</td>\n",
       "      <td>0.995442</td>\n",
       "      <td>0.541375</td>\n",
       "      <td>0.996012</td>\n",
       "      <td>0.538666</td>\n",
       "      <td>0.995605</td>\n",
       "      <td>52.580335</td>\n",
       "      <td>0.122543</td>\n",
       "      <td>0.001188</td>\n",
       "      <td>0.00024</td>\n",
       "    </tr>\n",
       "    <tr>\n",
       "      <th>10</th>\n",
       "      <td>250.514297</td>\n",
       "      <td>15.754154</td>\n",
       "      <td>0.540327</td>\n",
       "      <td>0.995686</td>\n",
       "      <td>10</td>\n",
       "      <td>4</td>\n",
       "      <td>3</td>\n",
       "      <td>rbf</td>\n",
       "      <td>{u'kernel': u'rbf', u'C': 10.0, u'gamma': 3, u...</td>\n",
       "      <td>1</td>\n",
       "      <td>0.540941</td>\n",
       "      <td>0.995442</td>\n",
       "      <td>0.541375</td>\n",
       "      <td>0.996012</td>\n",
       "      <td>0.538666</td>\n",
       "      <td>0.995605</td>\n",
       "      <td>0.513617</td>\n",
       "      <td>0.031668</td>\n",
       "      <td>0.001188</td>\n",
       "      <td>0.00024</td>\n",
       "    </tr>\n",
       "    <tr>\n",
       "      <th>1</th>\n",
       "      <td>182.596700</td>\n",
       "      <td>15.826725</td>\n",
       "      <td>0.363842</td>\n",
       "      <td>0.995686</td>\n",
       "      <td>1</td>\n",
       "      <td>2</td>\n",
       "      <td>4</td>\n",
       "      <td>rbf</td>\n",
       "      <td>{u'kernel': u'rbf', u'C': 1.0, u'gamma': 4, u'...</td>\n",
       "      <td>16</td>\n",
       "      <td>0.363612</td>\n",
       "      <td>0.995442</td>\n",
       "      <td>0.364263</td>\n",
       "      <td>0.996012</td>\n",
       "      <td>0.363651</td>\n",
       "      <td>0.995605</td>\n",
       "      <td>0.226912</td>\n",
       "      <td>0.014528</td>\n",
       "      <td>0.000298</td>\n",
       "      <td>0.00024</td>\n",
       "    </tr>\n",
       "    <tr>\n",
       "      <th>7</th>\n",
       "      <td>255.587922</td>\n",
       "      <td>15.740578</td>\n",
       "      <td>0.363969</td>\n",
       "      <td>0.995686</td>\n",
       "      <td>10</td>\n",
       "      <td>2</td>\n",
       "      <td>4</td>\n",
       "      <td>rbf</td>\n",
       "      <td>{u'kernel': u'rbf', u'C': 10.0, u'gamma': 4, u...</td>\n",
       "      <td>10</td>\n",
       "      <td>0.363666</td>\n",
       "      <td>0.995442</td>\n",
       "      <td>0.364426</td>\n",
       "      <td>0.996012</td>\n",
       "      <td>0.363814</td>\n",
       "      <td>0.995605</td>\n",
       "      <td>0.734185</td>\n",
       "      <td>0.044624</td>\n",
       "      <td>0.000329</td>\n",
       "      <td>0.00024</td>\n",
       "    </tr>\n",
       "    <tr>\n",
       "      <th>2</th>\n",
       "      <td>187.122463</td>\n",
       "      <td>15.791883</td>\n",
       "      <td>0.397974</td>\n",
       "      <td>0.995686</td>\n",
       "      <td>1</td>\n",
       "      <td>3</td>\n",
       "      <td>3</td>\n",
       "      <td>rbf</td>\n",
       "      <td>{u'kernel': u'rbf', u'C': 1.0, u'gamma': 3, u'...</td>\n",
       "      <td>7</td>\n",
       "      <td>0.397797</td>\n",
       "      <td>0.995442</td>\n",
       "      <td>0.399913</td>\n",
       "      <td>0.996012</td>\n",
       "      <td>0.396212</td>\n",
       "      <td>0.995605</td>\n",
       "      <td>0.287565</td>\n",
       "      <td>0.010359</td>\n",
       "      <td>0.001516</td>\n",
       "      <td>0.00024</td>\n",
       "    </tr>\n",
       "    <tr>\n",
       "      <th>17</th>\n",
       "      <td>266.279067</td>\n",
       "      <td>15.868367</td>\n",
       "      <td>0.363969</td>\n",
       "      <td>0.995686</td>\n",
       "      <td>100</td>\n",
       "      <td>4</td>\n",
       "      <td>4</td>\n",
       "      <td>rbf</td>\n",
       "      <td>{u'kernel': u'rbf', u'C': 100.0, u'gamma': 4, ...</td>\n",
       "      <td>10</td>\n",
       "      <td>0.363666</td>\n",
       "      <td>0.995442</td>\n",
       "      <td>0.364426</td>\n",
       "      <td>0.996012</td>\n",
       "      <td>0.363814</td>\n",
       "      <td>0.995605</td>\n",
       "      <td>14.628565</td>\n",
       "      <td>0.608439</td>\n",
       "      <td>0.000329</td>\n",
       "      <td>0.00024</td>\n",
       "    </tr>\n",
       "    <tr>\n",
       "      <th>13</th>\n",
       "      <td>297.431525</td>\n",
       "      <td>17.839929</td>\n",
       "      <td>0.363969</td>\n",
       "      <td>0.995686</td>\n",
       "      <td>100</td>\n",
       "      <td>2</td>\n",
       "      <td>4</td>\n",
       "      <td>rbf</td>\n",
       "      <td>{u'kernel': u'rbf', u'C': 100.0, u'gamma': 4, ...</td>\n",
       "      <td>10</td>\n",
       "      <td>0.363666</td>\n",
       "      <td>0.995442</td>\n",
       "      <td>0.364426</td>\n",
       "      <td>0.996012</td>\n",
       "      <td>0.363814</td>\n",
       "      <td>0.995605</td>\n",
       "      <td>11.062168</td>\n",
       "      <td>0.753418</td>\n",
       "      <td>0.000329</td>\n",
       "      <td>0.00024</td>\n",
       "    </tr>\n",
       "    <tr>\n",
       "      <th>5</th>\n",
       "      <td>181.761693</td>\n",
       "      <td>15.846814</td>\n",
       "      <td>0.363842</td>\n",
       "      <td>0.995686</td>\n",
       "      <td>1</td>\n",
       "      <td>4</td>\n",
       "      <td>4</td>\n",
       "      <td>rbf</td>\n",
       "      <td>{u'kernel': u'rbf', u'C': 1.0, u'gamma': 4, u'...</td>\n",
       "      <td>16</td>\n",
       "      <td>0.363612</td>\n",
       "      <td>0.995442</td>\n",
       "      <td>0.364263</td>\n",
       "      <td>0.996012</td>\n",
       "      <td>0.363651</td>\n",
       "      <td>0.995605</td>\n",
       "      <td>0.730632</td>\n",
       "      <td>0.082126</td>\n",
       "      <td>0.000298</td>\n",
       "      <td>0.00024</td>\n",
       "    </tr>\n",
       "    <tr>\n",
       "      <th>3</th>\n",
       "      <td>182.725271</td>\n",
       "      <td>15.750871</td>\n",
       "      <td>0.363842</td>\n",
       "      <td>0.995686</td>\n",
       "      <td>1</td>\n",
       "      <td>3</td>\n",
       "      <td>4</td>\n",
       "      <td>rbf</td>\n",
       "      <td>{u'kernel': u'rbf', u'C': 1.0, u'gamma': 4, u'...</td>\n",
       "      <td>16</td>\n",
       "      <td>0.363612</td>\n",
       "      <td>0.995442</td>\n",
       "      <td>0.364263</td>\n",
       "      <td>0.996012</td>\n",
       "      <td>0.363651</td>\n",
       "      <td>0.995605</td>\n",
       "      <td>0.895626</td>\n",
       "      <td>0.084623</td>\n",
       "      <td>0.000298</td>\n",
       "      <td>0.00024</td>\n",
       "    </tr>\n",
       "    <tr>\n",
       "      <th>8</th>\n",
       "      <td>250.703139</td>\n",
       "      <td>15.766860</td>\n",
       "      <td>0.540327</td>\n",
       "      <td>0.995686</td>\n",
       "      <td>10</td>\n",
       "      <td>3</td>\n",
       "      <td>3</td>\n",
       "      <td>rbf</td>\n",
       "      <td>{u'kernel': u'rbf', u'C': 10.0, u'gamma': 3, u...</td>\n",
       "      <td>1</td>\n",
       "      <td>0.540941</td>\n",
       "      <td>0.995442</td>\n",
       "      <td>0.541375</td>\n",
       "      <td>0.996012</td>\n",
       "      <td>0.538666</td>\n",
       "      <td>0.995605</td>\n",
       "      <td>0.072944</td>\n",
       "      <td>0.042529</td>\n",
       "      <td>0.001188</td>\n",
       "      <td>0.00024</td>\n",
       "    </tr>\n",
       "  </tbody>\n",
       "</table>\n",
       "</div>"
      ],
      "text/plain": [
       "    mean_fit_time  mean_score_time  mean_test_score  mean_train_score param_C  \\\n",
       "14     337.082707        15.215601         0.540327          0.995686     100   \n",
       "10     250.514297        15.754154         0.540327          0.995686      10   \n",
       "1      182.596700        15.826725         0.363842          0.995686       1   \n",
       "7      255.587922        15.740578         0.363969          0.995686      10   \n",
       "2      187.122463        15.791883         0.397974          0.995686       1   \n",
       "17     266.279067        15.868367         0.363969          0.995686     100   \n",
       "13     297.431525        17.839929         0.363969          0.995686     100   \n",
       "5      181.761693        15.846814         0.363842          0.995686       1   \n",
       "3      182.725271        15.750871         0.363842          0.995686       1   \n",
       "8      250.703139        15.766860         0.540327          0.995686      10   \n",
       "\n",
       "   param_degree param_gamma param_kernel  \\\n",
       "14            3           3          rbf   \n",
       "10            4           3          rbf   \n",
       "1             2           4          rbf   \n",
       "7             2           4          rbf   \n",
       "2             3           3          rbf   \n",
       "17            4           4          rbf   \n",
       "13            2           4          rbf   \n",
       "5             4           4          rbf   \n",
       "3             3           4          rbf   \n",
       "8             3           3          rbf   \n",
       "\n",
       "                                               params  rank_test_score  \\\n",
       "14  {u'kernel': u'rbf', u'C': 100.0, u'gamma': 3, ...                1   \n",
       "10  {u'kernel': u'rbf', u'C': 10.0, u'gamma': 3, u...                1   \n",
       "1   {u'kernel': u'rbf', u'C': 1.0, u'gamma': 4, u'...               16   \n",
       "7   {u'kernel': u'rbf', u'C': 10.0, u'gamma': 4, u...               10   \n",
       "2   {u'kernel': u'rbf', u'C': 1.0, u'gamma': 3, u'...                7   \n",
       "17  {u'kernel': u'rbf', u'C': 100.0, u'gamma': 4, ...               10   \n",
       "13  {u'kernel': u'rbf', u'C': 100.0, u'gamma': 4, ...               10   \n",
       "5   {u'kernel': u'rbf', u'C': 1.0, u'gamma': 4, u'...               16   \n",
       "3   {u'kernel': u'rbf', u'C': 1.0, u'gamma': 4, u'...               16   \n",
       "8   {u'kernel': u'rbf', u'C': 10.0, u'gamma': 3, u...                1   \n",
       "\n",
       "    split0_test_score  split0_train_score  split1_test_score  \\\n",
       "14           0.540941            0.995442           0.541375   \n",
       "10           0.540941            0.995442           0.541375   \n",
       "1            0.363612            0.995442           0.364263   \n",
       "7            0.363666            0.995442           0.364426   \n",
       "2            0.397797            0.995442           0.399913   \n",
       "17           0.363666            0.995442           0.364426   \n",
       "13           0.363666            0.995442           0.364426   \n",
       "5            0.363612            0.995442           0.364263   \n",
       "3            0.363612            0.995442           0.364263   \n",
       "8            0.540941            0.995442           0.541375   \n",
       "\n",
       "    split1_train_score  split2_test_score  split2_train_score  std_fit_time  \\\n",
       "14            0.996012           0.538666            0.995605     52.580335   \n",
       "10            0.996012           0.538666            0.995605      0.513617   \n",
       "1             0.996012           0.363651            0.995605      0.226912   \n",
       "7             0.996012           0.363814            0.995605      0.734185   \n",
       "2             0.996012           0.396212            0.995605      0.287565   \n",
       "17            0.996012           0.363814            0.995605     14.628565   \n",
       "13            0.996012           0.363814            0.995605     11.062168   \n",
       "5             0.996012           0.363651            0.995605      0.730632   \n",
       "3             0.996012           0.363651            0.995605      0.895626   \n",
       "8             0.996012           0.538666            0.995605      0.072944   \n",
       "\n",
       "    std_score_time  std_test_score  std_train_score  \n",
       "14        0.122543        0.001188          0.00024  \n",
       "10        0.031668        0.001188          0.00024  \n",
       "1         0.014528        0.000298          0.00024  \n",
       "7         0.044624        0.000329          0.00024  \n",
       "2         0.010359        0.001516          0.00024  \n",
       "17        0.608439        0.000329          0.00024  \n",
       "13        0.753418        0.000329          0.00024  \n",
       "5         0.082126        0.000298          0.00024  \n",
       "3         0.084623        0.000298          0.00024  \n",
       "8         0.042529        0.001188          0.00024  "
      ]
     },
     "execution_count": 395,
     "metadata": {},
     "output_type": "execute_result"
    }
   ],
   "source": [
    "svm_results = pd.DataFrame.from_dict(svm.cv_results_)\n",
    "svm_results.sample(10)"
   ]
  },
  {
   "cell_type": "code",
   "execution_count": 396,
   "metadata": {
    "collapsed": false
   },
   "outputs": [
    {
     "data": {
      "text/plain": [
       "SVC(C=10.0, cache_size=200, class_weight=None, coef0=0.0,\n",
       "  decision_function_shape=None, degree=2, gamma=3, kernel='rbf',\n",
       "  max_iter=-1, probability=False, random_state=None, shrinking=True,\n",
       "  tol=0.001, verbose=False)"
      ]
     },
     "execution_count": 396,
     "metadata": {},
     "output_type": "execute_result"
    }
   ],
   "source": [
    "svm.best_estimator_ "
   ]
  },
  {
   "cell_type": "code",
   "execution_count": 397,
   "metadata": {
    "collapsed": false
   },
   "outputs": [
    {
     "data": {
      "text/plain": [
       "{'C': 10.0, 'degree': 2, 'gamma': 3, 'kernel': 'rbf'}"
      ]
     },
     "execution_count": 397,
     "metadata": {},
     "output_type": "execute_result"
    }
   ],
   "source": [
    "svm.best_params_"
   ]
  },
  {
   "cell_type": "code",
   "execution_count": 405,
   "metadata": {
    "collapsed": false
   },
   "outputs": [
    {
     "name": "stdout",
     "output_type": "stream",
     "text": [
      "0.61340423736\n"
     ]
    }
   ],
   "source": [
    "y_pred = svm.predict(X_test)\n",
    "print(accuracy_score(y_test, y_pred))"
   ]
  },
  {
   "cell_type": "code",
   "execution_count": 406,
   "metadata": {
    "collapsed": false
   },
   "outputs": [
    {
     "name": "stdout",
     "output_type": "stream",
     "text": [
      "Confusion matrix, without normalization\n",
      "[[4971  273 2501]\n",
      " [1369 1368 4682]\n",
      " [  89  246 8195]]\n",
      "Precision Matrix\n",
      "[[ 0.77  0.04  0.39]\n",
      " [ 0.73  0.72  2.48]\n",
      " [ 0.01  0.02  0.53]]\n"
     ]
    },
    {
     "data": {
      "image/png": "[encoded data removed]",
      "text/plain": [
       "<matplotlib.figure.Figure at 0x12067b950>"
      ]
     },
     "metadata": {},
     "output_type": "display_data"
    }
   ],
   "source": [
    "# Compute confusion matrix\n",
    "cnf_matrix = confusion_matrix(y_test, y_pred)\n",
    "np.set_printoptions(precision=2)\n",
    "\n",
    "# Plot non-normalized confusion matrix\n",
    "plt.figure()\n",
    "plot_confusion_matrix(cnf_matrix, classes=class_names,\n",
    "                      title='Confusion matrix, without normalization')\n",
    "\n",
    "# # Plot normalized confusion matrix\n",
    "# plt.figure()\n",
    "# plot_confusion_matrix(cnf_matrix, classes=class_names, normalize=True,\n",
    "#                      title='Normalized confusion matrix')\n",
    "\n",
    "plt.show()"
   ]
  },
  {
   "cell_type": "markdown",
   "metadata": {},
   "source": [
    "## Decision Trees:"
   ]
  },
  {
   "cell_type": "code",
   "execution_count": 64,
   "metadata": {
    "collapsed": false
   },
   "outputs": [
    {
     "data": {
      "text/plain": [
       "RandomizedSearchCV(cv=None, error_score='raise',\n",
       "          estimator=DecisionTreeClassifier(class_weight=None, criterion='gini', max_depth=None,\n",
       "            max_features=None, max_leaf_nodes=None,\n",
       "            min_impurity_split=1e-07, min_samples_leaf=1,\n",
       "            min_samples_split=2, min_weight_fraction_leaf=0.0,\n",
       "            presort=False, random_state=None, splitter='best'),\n",
       "          fit_params={}, iid=True, n_iter=60, n_jobs=1,\n",
       "          param_distributions={'splitter': ['best'], 'min_samples_leaf': <scipy.stats._distn_infrastructure.rv_frozen object at 0x12d671150>, 'min_samples_split': <scipy.stats._distn_infrastructure.rv_frozen object at 0x12d671590>, 'criterion': ['gini', 'entropy'], 'max_features': <scipy.stats._distn_infrastructure.rv_frozen object at 0x12d671f10>, 'max_depth': [10, 5, 3, None]},\n",
       "          pre_dispatch='2*n_jobs', random_state=None, refit=True,\n",
       "          return_train_score=True, scoring=None, verbose=0)"
      ]
     },
     "execution_count": 64,
     "metadata": {},
     "output_type": "execute_result"
    }
   ],
   "source": [
    "from sklearn import tree\n",
    "clf = tree.DecisionTreeClassifier()\n",
    "clf = clf.fit(X_train, y_train)\n",
    "\n",
    "# specify parameters and distributions to sample from\n",
    "param_dist = {\"max_depth\": [10,5,3,None],\n",
    "              \"max_features\": sp_randint(1,6),\n",
    "              \"min_samples_split\": sp_randint(2,20),\n",
    "              \"min_samples_leaf\": sp_randint(2,20),\n",
    "              \"criterion\": [\"gini\",\"entropy\"],\n",
    "              'splitter': ['best']}\n",
    "\n",
    "# run randomized search\n",
    "n_iter_search = 60\n",
    "random_search = RandomizedSearchCV(clf, param_distributions=param_dist,\n",
    "                                   n_iter=n_iter_search)\n",
    "\n",
    "\n",
    "random_search.fit(X_train, y_train)"
   ]
  },
  {
   "cell_type": "code",
   "execution_count": 65,
   "metadata": {
    "collapsed": false
   },
   "outputs": [
    {
     "data": {
      "text/plain": [
       "{'criterion': 'entropy',\n",
       " 'max_depth': None,\n",
       " 'max_features': 5,\n",
       " 'min_samples_leaf': 10,\n",
       " 'min_samples_split': 14,\n",
       " 'splitter': 'best'}"
      ]
     },
     "execution_count": 65,
     "metadata": {},
     "output_type": "execute_result"
    }
   ],
   "source": [
    "random_search.best_params_"
   ]
  },
  {
   "cell_type": "code",
   "execution_count": 66,
   "metadata": {
    "collapsed": false
   },
   "outputs": [
    {
     "data": {
      "text/plain": [
       "DecisionTreeClassifier(class_weight=None, criterion='entropy', max_depth=None,\n",
       "            max_features=5, max_leaf_nodes=None, min_impurity_split=1e-07,\n",
       "            min_samples_leaf=10, min_samples_split=14,\n",
       "            min_weight_fraction_leaf=0.0, presort=False, random_state=None,\n",
       "            splitter='best')"
      ]
     },
     "execution_count": 66,
     "metadata": {},
     "output_type": "execute_result"
    }
   ],
   "source": [
    "random_search.best_estimator_ "
   ]
  },
  {
   "cell_type": "code",
   "execution_count": 67,
   "metadata": {
    "collapsed": false
   },
   "outputs": [
    {
     "name": "stdout",
     "output_type": "stream",
     "text": [
      "0.782327937053\n",
      "0.726597450831\n"
     ]
    }
   ],
   "source": [
    "acc_train_dt = random_search.score(X_train, y_train)\n",
    "acc_test_dt = random_search.score(X_test, y_test)\n",
    "\n",
    "print(acc_train_dt)\n",
    "print(acc_test_dt)\n"
   ]
  },
  {
   "cell_type": "code",
   "execution_count": 68,
   "metadata": {
    "collapsed": false
   },
   "outputs": [
    {
     "name": "stdout",
     "output_type": "stream",
     "text": [
      "0.726597450831\n",
      "Confusion matrix, without normalization\n",
      "[[7405 1646  149]\n",
      " [1834 4761 1164]\n",
      " [ 195 1490 5050]]\n",
      "Precision Matrix\n",
      "[[ 0.78  0.17  0.02]\n",
      " [ 0.23  0.6   0.15]\n",
      " [ 0.03  0.23  0.79]]\n"
     ]
    },
    {
     "data": {
      "image/png": "[encoded data removed]",
      "text/plain": [
       "<matplotlib.figure.Figure at 0x13596fbd0>"
      ]
     },
     "metadata": {},
     "output_type": "display_data"
    }
   ],
   "source": [
    "y_pred = random_search.predict(X_test)\n",
    "print(accuracy_score(y_test, y_pred))\n",
    "\n",
    "# Compute confusion matrix\n",
    "cnf_matrix = confusion_matrix(y_test, y_pred)\n",
    "np.set_printoptions(precision=2)\n",
    "\n",
    "# Plot non-normalized confusion matrix\n",
    "plt.figure()\n",
    "plot_confusion_matrix(cnf_matrix, classes=class_names,\n",
    "                      title='Confusion matrix, without normalization')\n",
    "\n",
    "# # Plot normalized confusion matrix\n",
    "# plt.figure()\n",
    "# plot_confusion_matrix(cnf_matrix, classes=class_names, normalize=True,\n",
    "#                      title='Normalized confusion matrix')\n",
    "\n",
    "plt.show()"
   ]
  },
  {
   "cell_type": "code",
   "execution_count": 69,
   "metadata": {
    "collapsed": false
   },
   "outputs": [
    {
     "name": "stdout",
     "output_type": "stream",
     "text": [
      "8\n",
      "8\n",
      "('Diagnosis', 'State_full', 'Uninsured: %', 'Percent Male', 'Hospital Ownership', 'Median Age', 'Percent Occupied Housing Units', 'Median Income')\n"
     ]
    },
    {
     "data": {
      "image/png": "[encoded data removed]",
      "text/plain": [
       "<matplotlib.figure.Figure at 0x1359aa410>"
      ]
     },
     "metadata": {},
     "output_type": "display_data"
    }
   ],
   "source": [
    "importances = random_search.best_estimator_.feature_importances_\n",
    "feature_importance = importances\n",
    "\n",
    "sns.set(context=\"paper\", font='sans-serif')\n",
    "\n",
    "feature_importance = importances\n",
    "feature_importance_list = list()\n",
    "features_list = list()\n",
    "for feature in feature_importance:\n",
    "    feature_importance_list.append(feature)\n",
    "for column in X_coded.columns:\n",
    "    features_list.append(column)\n",
    "\n",
    "print(len(feature_importance_list))\n",
    "print(len(features_list))\n",
    "\n",
    "zipped = zip(features_list,feature_importance_list)\n",
    "zipped.sort(key = lambda t: t[1])\n",
    "zipped\n",
    "\n",
    "features = zip(*zipped)[0]\n",
    "importance = zip(*zipped)[1]\n",
    "x_pos = np.arange(len(zipped)) \n",
    "\n",
    "print(features)\n",
    "\n",
    "plt.figure(figsize=(10,10))\n",
    "plt.bar(x_pos, importance ,align='center')\n",
    "plt.yticks(fontsize = 24) \n",
    "plt.xticks(x_pos, features, rotation = 90, fontsize = 24) \n",
    "plt.ylabel('Feature Importance', fontsize = 26)\n",
    "\n",
    "plt.show()"
   ]
  },
  {
   "cell_type": "code",
   "execution_count": null,
   "metadata": {
    "collapsed": true
   },
   "outputs": [],
   "source": []
  },
  {
   "cell_type": "code",
   "execution_count": null,
   "metadata": {
    "collapsed": true
   },
   "outputs": [],
   "source": []
  },
  {
   "cell_type": "code",
   "execution_count": null,
   "metadata": {
    "collapsed": true
   },
   "outputs": [],
   "source": []
  },
  {
   "cell_type": "code",
   "execution_count": null,
   "metadata": {
    "collapsed": true
   },
   "outputs": [],
   "source": []
  },
  {
   "cell_type": "code",
   "execution_count": null,
   "metadata": {
    "collapsed": true
   },
   "outputs": [],
   "source": []
  },
  {
   "cell_type": "code",
   "execution_count": null,
   "metadata": {
    "collapsed": true
   },
   "outputs": [],
   "source": []
  }
 ],
 "metadata": {
  "kernelspec": {
   "display_name": "Python 2",
   "language": "python",
   "name": "python2"
  },
  "language_info": {
   "codemirror_mode": {
    "name": "ipython",
    "version": 2
   },
   "file_extension": ".py",
   "mimetype": "text/x-python",
   "name": "python",
   "nbconvert_exporter": "python",
   "pygments_lexer": "ipython2",
   "version": "2.7.13"
  }
 },
 "nbformat": 4,
 "nbformat_minor": 2
}
